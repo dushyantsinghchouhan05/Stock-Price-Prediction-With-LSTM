{
 "cells": [
  {
   "cell_type": "markdown",
   "id": "81b58bb0-f107-4240-a7ed-fec5350eecc9",
   "metadata": {},
   "source": [
    "# Stock Price Prediction using LSTM "
   ]
  },
  {
   "cell_type": "markdown",
   "id": "f30051ed-60af-463c-8176-bfe264f97df4",
   "metadata": {},
   "source": [
    "# Import Library"
   ]
  },
  {
   "cell_type": "code",
   "execution_count": 5,
   "id": "41698497-5368-4950-bc2c-0a7f3007b946",
   "metadata": {},
   "outputs": [],
   "source": [
    "import pandas as pd\n",
    "import numpy as np\n",
    "import matplotlib.pyplot as plt\n",
    "import seaborn as sns\n",
    "\n",
    "import warnings\n",
    "warnings.filterwarnings(\"ignore\")\n",
    "from sklearn.preprocessing import MinMaxScaler, StandardScaler\n",
    "import tensorflow as tf\n",
    "from tensorflow.keras import Sequential\n",
    "from tensorflow.keras.layers import Dense, LSTM, Dropout\n"
   ]
  },
  {
   "cell_type": "markdown",
   "id": "1b0523f4-3bc7-4cab-ad27-f4fe8d2a819c",
   "metadata": {},
   "source": [
    "# 1. Loading the Data"
   ]
  },
  {
   "cell_type": "code",
   "execution_count": 6,
   "id": "474dc903-2cd0-4929-9e90-d2c55b9d8a47",
   "metadata": {},
   "outputs": [],
   "source": [
    "# Import Train and Test file\n",
    "train =pd.read_csv(r\"C:\\Users\\AVITA\\Downloads\\Google_Stock_Price_Train.csv\")\n",
    "test = pd.read_csv(r\"C:\\Users\\AVITA\\Downloads\\Google_Stock_Price_Test.csv\")"
   ]
  },
  {
   "cell_type": "code",
   "execution_count": 7,
   "id": "db92a93f-f38d-498a-9664-ba0d5c07279c",
   "metadata": {},
   "outputs": [
    {
     "data": {
      "text/html": [
       "<div>\n",
       "<style scoped>\n",
       "    .dataframe tbody tr th:only-of-type {\n",
       "        vertical-align: middle;\n",
       "    }\n",
       "\n",
       "    .dataframe tbody tr th {\n",
       "        vertical-align: top;\n",
       "    }\n",
       "\n",
       "    .dataframe thead th {\n",
       "        text-align: right;\n",
       "    }\n",
       "</style>\n",
       "<table border=\"1\" class=\"dataframe\">\n",
       "  <thead>\n",
       "    <tr style=\"text-align: right;\">\n",
       "      <th></th>\n",
       "      <th>Date</th>\n",
       "      <th>Open</th>\n",
       "      <th>High</th>\n",
       "      <th>Low</th>\n",
       "      <th>Close</th>\n",
       "      <th>Volume</th>\n",
       "    </tr>\n",
       "  </thead>\n",
       "  <tbody>\n",
       "    <tr>\n",
       "      <th>0</th>\n",
       "      <td>1/3/2012</td>\n",
       "      <td>325.25</td>\n",
       "      <td>332.83</td>\n",
       "      <td>324.97</td>\n",
       "      <td>663.59</td>\n",
       "      <td>7,380,500</td>\n",
       "    </tr>\n",
       "    <tr>\n",
       "      <th>1</th>\n",
       "      <td>1/4/2012</td>\n",
       "      <td>331.27</td>\n",
       "      <td>333.87</td>\n",
       "      <td>329.08</td>\n",
       "      <td>666.45</td>\n",
       "      <td>5,749,400</td>\n",
       "    </tr>\n",
       "    <tr>\n",
       "      <th>2</th>\n",
       "      <td>1/5/2012</td>\n",
       "      <td>329.83</td>\n",
       "      <td>330.75</td>\n",
       "      <td>326.89</td>\n",
       "      <td>657.21</td>\n",
       "      <td>6,590,300</td>\n",
       "    </tr>\n",
       "    <tr>\n",
       "      <th>3</th>\n",
       "      <td>1/6/2012</td>\n",
       "      <td>328.34</td>\n",
       "      <td>328.77</td>\n",
       "      <td>323.68</td>\n",
       "      <td>648.24</td>\n",
       "      <td>5,405,900</td>\n",
       "    </tr>\n",
       "    <tr>\n",
       "      <th>4</th>\n",
       "      <td>1/9/2012</td>\n",
       "      <td>322.04</td>\n",
       "      <td>322.29</td>\n",
       "      <td>309.46</td>\n",
       "      <td>620.76</td>\n",
       "      <td>11,688,800</td>\n",
       "    </tr>\n",
       "  </tbody>\n",
       "</table>\n",
       "</div>"
      ],
      "text/plain": [
       "       Date    Open    High     Low   Close      Volume\n",
       "0  1/3/2012  325.25  332.83  324.97  663.59   7,380,500\n",
       "1  1/4/2012  331.27  333.87  329.08  666.45   5,749,400\n",
       "2  1/5/2012  329.83  330.75  326.89  657.21   6,590,300\n",
       "3  1/6/2012  328.34  328.77  323.68  648.24   5,405,900\n",
       "4  1/9/2012  322.04  322.29  309.46  620.76  11,688,800"
      ]
     },
     "execution_count": 7,
     "metadata": {},
     "output_type": "execute_result"
    }
   ],
   "source": [
    "train.head() # check Few record of train Data"
   ]
  },
  {
   "cell_type": "code",
   "execution_count": 8,
   "id": "4aa0d82a-ff4d-45c5-9b99-85e20778e363",
   "metadata": {},
   "outputs": [
    {
     "data": {
      "text/html": [
       "<div>\n",
       "<style scoped>\n",
       "    .dataframe tbody tr th:only-of-type {\n",
       "        vertical-align: middle;\n",
       "    }\n",
       "\n",
       "    .dataframe tbody tr th {\n",
       "        vertical-align: top;\n",
       "    }\n",
       "\n",
       "    .dataframe thead th {\n",
       "        text-align: right;\n",
       "    }\n",
       "</style>\n",
       "<table border=\"1\" class=\"dataframe\">\n",
       "  <thead>\n",
       "    <tr style=\"text-align: right;\">\n",
       "      <th></th>\n",
       "      <th>Date</th>\n",
       "      <th>Open</th>\n",
       "      <th>High</th>\n",
       "      <th>Low</th>\n",
       "      <th>Close</th>\n",
       "      <th>Volume</th>\n",
       "    </tr>\n",
       "  </thead>\n",
       "  <tbody>\n",
       "    <tr>\n",
       "      <th>1253</th>\n",
       "      <td>12/23/2016</td>\n",
       "      <td>790.90</td>\n",
       "      <td>792.74</td>\n",
       "      <td>787.28</td>\n",
       "      <td>789.91</td>\n",
       "      <td>623,400</td>\n",
       "    </tr>\n",
       "    <tr>\n",
       "      <th>1254</th>\n",
       "      <td>12/27/2016</td>\n",
       "      <td>790.68</td>\n",
       "      <td>797.86</td>\n",
       "      <td>787.66</td>\n",
       "      <td>791.55</td>\n",
       "      <td>789,100</td>\n",
       "    </tr>\n",
       "    <tr>\n",
       "      <th>1255</th>\n",
       "      <td>12/28/2016</td>\n",
       "      <td>793.70</td>\n",
       "      <td>794.23</td>\n",
       "      <td>783.20</td>\n",
       "      <td>785.05</td>\n",
       "      <td>1,153,800</td>\n",
       "    </tr>\n",
       "    <tr>\n",
       "      <th>1256</th>\n",
       "      <td>12/29/2016</td>\n",
       "      <td>783.33</td>\n",
       "      <td>785.93</td>\n",
       "      <td>778.92</td>\n",
       "      <td>782.79</td>\n",
       "      <td>744,300</td>\n",
       "    </tr>\n",
       "    <tr>\n",
       "      <th>1257</th>\n",
       "      <td>12/30/2016</td>\n",
       "      <td>782.75</td>\n",
       "      <td>782.78</td>\n",
       "      <td>770.41</td>\n",
       "      <td>771.82</td>\n",
       "      <td>1,770,000</td>\n",
       "    </tr>\n",
       "  </tbody>\n",
       "</table>\n",
       "</div>"
      ],
      "text/plain": [
       "            Date    Open    High     Low   Close     Volume\n",
       "1253  12/23/2016  790.90  792.74  787.28  789.91    623,400\n",
       "1254  12/27/2016  790.68  797.86  787.66  791.55    789,100\n",
       "1255  12/28/2016  793.70  794.23  783.20  785.05  1,153,800\n",
       "1256  12/29/2016  783.33  785.93  778.92  782.79    744,300\n",
       "1257  12/30/2016  782.75  782.78  770.41  771.82  1,770,000"
      ]
     },
     "execution_count": 8,
     "metadata": {},
     "output_type": "execute_result"
    }
   ],
   "source": [
    "train.tail()"
   ]
  },
  {
   "cell_type": "markdown",
   "id": "8cfb5e4c-da47-441e-b637-69f374f9e58e",
   "metadata": {},
   "source": [
    "Date from 03.01.2012 to 30.12.2016"
   ]
  },
  {
   "cell_type": "code",
   "execution_count": 9,
   "id": "fa6b00f3-3204-4c66-adeb-3e8702cceab3",
   "metadata": {},
   "outputs": [
    {
     "data": {
      "text/html": [
       "<div>\n",
       "<style scoped>\n",
       "    .dataframe tbody tr th:only-of-type {\n",
       "        vertical-align: middle;\n",
       "    }\n",
       "\n",
       "    .dataframe tbody tr th {\n",
       "        vertical-align: top;\n",
       "    }\n",
       "\n",
       "    .dataframe thead th {\n",
       "        text-align: right;\n",
       "    }\n",
       "</style>\n",
       "<table border=\"1\" class=\"dataframe\">\n",
       "  <thead>\n",
       "    <tr style=\"text-align: right;\">\n",
       "      <th></th>\n",
       "      <th>Date</th>\n",
       "      <th>Open</th>\n",
       "      <th>High</th>\n",
       "      <th>Low</th>\n",
       "      <th>Close</th>\n",
       "      <th>Volume</th>\n",
       "    </tr>\n",
       "  </thead>\n",
       "  <tbody>\n",
       "    <tr>\n",
       "      <th>0</th>\n",
       "      <td>1/3/2017</td>\n",
       "      <td>778.81</td>\n",
       "      <td>789.63</td>\n",
       "      <td>775.80</td>\n",
       "      <td>786.14</td>\n",
       "      <td>1,657,300</td>\n",
       "    </tr>\n",
       "    <tr>\n",
       "      <th>1</th>\n",
       "      <td>1/4/2017</td>\n",
       "      <td>788.36</td>\n",
       "      <td>791.34</td>\n",
       "      <td>783.16</td>\n",
       "      <td>786.90</td>\n",
       "      <td>1,073,000</td>\n",
       "    </tr>\n",
       "    <tr>\n",
       "      <th>2</th>\n",
       "      <td>1/5/2017</td>\n",
       "      <td>786.08</td>\n",
       "      <td>794.48</td>\n",
       "      <td>785.02</td>\n",
       "      <td>794.02</td>\n",
       "      <td>1,335,200</td>\n",
       "    </tr>\n",
       "    <tr>\n",
       "      <th>3</th>\n",
       "      <td>1/6/2017</td>\n",
       "      <td>795.26</td>\n",
       "      <td>807.90</td>\n",
       "      <td>792.20</td>\n",
       "      <td>806.15</td>\n",
       "      <td>1,640,200</td>\n",
       "    </tr>\n",
       "    <tr>\n",
       "      <th>4</th>\n",
       "      <td>1/9/2017</td>\n",
       "      <td>806.40</td>\n",
       "      <td>809.97</td>\n",
       "      <td>802.83</td>\n",
       "      <td>806.65</td>\n",
       "      <td>1,272,400</td>\n",
       "    </tr>\n",
       "    <tr>\n",
       "      <th>5</th>\n",
       "      <td>1/10/2017</td>\n",
       "      <td>807.86</td>\n",
       "      <td>809.13</td>\n",
       "      <td>803.51</td>\n",
       "      <td>804.79</td>\n",
       "      <td>1,176,800</td>\n",
       "    </tr>\n",
       "    <tr>\n",
       "      <th>6</th>\n",
       "      <td>1/11/2017</td>\n",
       "      <td>805.00</td>\n",
       "      <td>808.15</td>\n",
       "      <td>801.37</td>\n",
       "      <td>807.91</td>\n",
       "      <td>1,065,900</td>\n",
       "    </tr>\n",
       "    <tr>\n",
       "      <th>7</th>\n",
       "      <td>1/12/2017</td>\n",
       "      <td>807.14</td>\n",
       "      <td>807.39</td>\n",
       "      <td>799.17</td>\n",
       "      <td>806.36</td>\n",
       "      <td>1,353,100</td>\n",
       "    </tr>\n",
       "    <tr>\n",
       "      <th>8</th>\n",
       "      <td>1/13/2017</td>\n",
       "      <td>807.48</td>\n",
       "      <td>811.22</td>\n",
       "      <td>806.69</td>\n",
       "      <td>807.88</td>\n",
       "      <td>1,099,200</td>\n",
       "    </tr>\n",
       "    <tr>\n",
       "      <th>9</th>\n",
       "      <td>1/17/2017</td>\n",
       "      <td>807.08</td>\n",
       "      <td>807.14</td>\n",
       "      <td>800.37</td>\n",
       "      <td>804.61</td>\n",
       "      <td>1,362,100</td>\n",
       "    </tr>\n",
       "    <tr>\n",
       "      <th>10</th>\n",
       "      <td>1/18/2017</td>\n",
       "      <td>805.81</td>\n",
       "      <td>806.21</td>\n",
       "      <td>800.99</td>\n",
       "      <td>806.07</td>\n",
       "      <td>1,294,400</td>\n",
       "    </tr>\n",
       "    <tr>\n",
       "      <th>11</th>\n",
       "      <td>1/19/2017</td>\n",
       "      <td>805.12</td>\n",
       "      <td>809.48</td>\n",
       "      <td>801.80</td>\n",
       "      <td>802.17</td>\n",
       "      <td>919,300</td>\n",
       "    </tr>\n",
       "    <tr>\n",
       "      <th>12</th>\n",
       "      <td>1/20/2017</td>\n",
       "      <td>806.91</td>\n",
       "      <td>806.91</td>\n",
       "      <td>801.69</td>\n",
       "      <td>805.02</td>\n",
       "      <td>1,670,000</td>\n",
       "    </tr>\n",
       "    <tr>\n",
       "      <th>13</th>\n",
       "      <td>1/23/2017</td>\n",
       "      <td>807.25</td>\n",
       "      <td>820.87</td>\n",
       "      <td>803.74</td>\n",
       "      <td>819.31</td>\n",
       "      <td>1,963,600</td>\n",
       "    </tr>\n",
       "    <tr>\n",
       "      <th>14</th>\n",
       "      <td>1/24/2017</td>\n",
       "      <td>822.30</td>\n",
       "      <td>825.90</td>\n",
       "      <td>817.82</td>\n",
       "      <td>823.87</td>\n",
       "      <td>1,474,000</td>\n",
       "    </tr>\n",
       "    <tr>\n",
       "      <th>15</th>\n",
       "      <td>1/25/2017</td>\n",
       "      <td>829.62</td>\n",
       "      <td>835.77</td>\n",
       "      <td>825.06</td>\n",
       "      <td>835.67</td>\n",
       "      <td>1,494,500</td>\n",
       "    </tr>\n",
       "    <tr>\n",
       "      <th>16</th>\n",
       "      <td>1/26/2017</td>\n",
       "      <td>837.81</td>\n",
       "      <td>838.00</td>\n",
       "      <td>827.01</td>\n",
       "      <td>832.15</td>\n",
       "      <td>2,973,900</td>\n",
       "    </tr>\n",
       "    <tr>\n",
       "      <th>17</th>\n",
       "      <td>1/27/2017</td>\n",
       "      <td>834.71</td>\n",
       "      <td>841.95</td>\n",
       "      <td>820.44</td>\n",
       "      <td>823.31</td>\n",
       "      <td>2,965,800</td>\n",
       "    </tr>\n",
       "    <tr>\n",
       "      <th>18</th>\n",
       "      <td>1/30/2017</td>\n",
       "      <td>814.66</td>\n",
       "      <td>815.84</td>\n",
       "      <td>799.80</td>\n",
       "      <td>802.32</td>\n",
       "      <td>3,246,600</td>\n",
       "    </tr>\n",
       "    <tr>\n",
       "      <th>19</th>\n",
       "      <td>1/31/2017</td>\n",
       "      <td>796.86</td>\n",
       "      <td>801.25</td>\n",
       "      <td>790.52</td>\n",
       "      <td>796.79</td>\n",
       "      <td>2,160,600</td>\n",
       "    </tr>\n",
       "  </tbody>\n",
       "</table>\n",
       "</div>"
      ],
      "text/plain": [
       "         Date    Open    High     Low   Close     Volume\n",
       "0    1/3/2017  778.81  789.63  775.80  786.14  1,657,300\n",
       "1    1/4/2017  788.36  791.34  783.16  786.90  1,073,000\n",
       "2    1/5/2017  786.08  794.48  785.02  794.02  1,335,200\n",
       "3    1/6/2017  795.26  807.90  792.20  806.15  1,640,200\n",
       "4    1/9/2017  806.40  809.97  802.83  806.65  1,272,400\n",
       "5   1/10/2017  807.86  809.13  803.51  804.79  1,176,800\n",
       "6   1/11/2017  805.00  808.15  801.37  807.91  1,065,900\n",
       "7   1/12/2017  807.14  807.39  799.17  806.36  1,353,100\n",
       "8   1/13/2017  807.48  811.22  806.69  807.88  1,099,200\n",
       "9   1/17/2017  807.08  807.14  800.37  804.61  1,362,100\n",
       "10  1/18/2017  805.81  806.21  800.99  806.07  1,294,400\n",
       "11  1/19/2017  805.12  809.48  801.80  802.17    919,300\n",
       "12  1/20/2017  806.91  806.91  801.69  805.02  1,670,000\n",
       "13  1/23/2017  807.25  820.87  803.74  819.31  1,963,600\n",
       "14  1/24/2017  822.30  825.90  817.82  823.87  1,474,000\n",
       "15  1/25/2017  829.62  835.77  825.06  835.67  1,494,500\n",
       "16  1/26/2017  837.81  838.00  827.01  832.15  2,973,900\n",
       "17  1/27/2017  834.71  841.95  820.44  823.31  2,965,800\n",
       "18  1/30/2017  814.66  815.84  799.80  802.32  3,246,600\n",
       "19  1/31/2017  796.86  801.25  790.52  796.79  2,160,600"
      ]
     },
     "execution_count": 9,
     "metadata": {},
     "output_type": "execute_result"
    }
   ],
   "source": [
    "test"
   ]
  },
  {
   "cell_type": "markdown",
   "id": "5cd58819-e671-478a-adb2-21cf1110e26b",
   "metadata": {},
   "source": [
    "### About Dataset:¶\n",
    "The dataset captures the historical stock price information. offering a comprehensive perspective on the company's financial performance over time. Each record corresponds to a specific date, beginning from January 03, 2012, to December 30, 2016. Here's a breakdown of the dataset columns:\n",
    "\n",
    "##### Date: The date of the stock price record, providing a chronological timeline for the dataset.\n",
    "##### Open: The opening price, representing the initial trading price of stock on a given day.\n",
    "##### High: The highest stock price during a specific period, providing insights into peak price levels.\n",
    "##### Low: The lowest stock price observed during a defined period, indicating potential fluctuations in value.\n",
    "##### Close: The closing price, representing the last recorded price at the end of a regular trading session.\n",
    "##### Volume: Measures the number of shares traded, providing insights into interest and activity in stock.\n",
    "The dataset spans several decades, making it a valuable resource for various analytical purposes, including trend identification, volatility evaluation, and predictive modeling like the ongoing LSTM-based stock price prediction exploration. This dataset contributes significantly to understanding stock performance in the dynamic financial landscape."
   ]
  },
  {
   "cell_type": "code",
   "execution_count": 10,
   "id": "9c54ebf4-715a-4c03-99b6-31531279ea27",
   "metadata": {},
   "outputs": [
    {
     "data": {
      "text/plain": [
       "(1258, 6)"
      ]
     },
     "execution_count": 10,
     "metadata": {},
     "output_type": "execute_result"
    }
   ],
   "source": [
    "train.shape"
   ]
  },
  {
   "cell_type": "code",
   "execution_count": 11,
   "id": "724ce4a2-f49d-4ee5-a1a8-db5fe339cc3a",
   "metadata": {},
   "outputs": [
    {
     "name": "stdout",
     "output_type": "stream",
     "text": [
      "<class 'pandas.core.frame.DataFrame'>\n",
      "RangeIndex: 1258 entries, 0 to 1257\n",
      "Data columns (total 6 columns):\n",
      " #   Column  Non-Null Count  Dtype  \n",
      "---  ------  --------------  -----  \n",
      " 0   Date    1258 non-null   object \n",
      " 1   Open    1258 non-null   float64\n",
      " 2   High    1258 non-null   float64\n",
      " 3   Low     1258 non-null   float64\n",
      " 4   Close   1258 non-null   object \n",
      " 5   Volume  1258 non-null   object \n",
      "dtypes: float64(3), object(3)\n",
      "memory usage: 59.1+ KB\n"
     ]
    }
   ],
   "source": [
    "train.info() # information about the Dataframe"
   ]
  },
  {
   "cell_type": "markdown",
   "id": "874d60cc-aded-4a9e-a1fb-e340d36a7ec4",
   "metadata": {},
   "source": [
    "### To ensure accurate analysis, we need to convert the data types for the following columns:\n",
    "\n",
    "###### Date: Currently stored as an object. It should be converted to a date format (datetime) for proper chronological handling.\n",
    "###### Close and Volume: These columns are also stored as objects but should be numeric (float or int) to allow for accurate calculations and visualizations.\n",
    "### Converting these columns into the appropriate formats will enhance data manipulation, improve analytical accuracy, and ensure compatibility with various functions for data analysis."
   ]
  },
  {
   "cell_type": "markdown",
   "id": "3cc5ad5d-10a6-4494-bb3d-a8af2d3e5b56",
   "metadata": {},
   "source": [
    "# 2. Data Preprocessing"
   ]
  },
  {
   "cell_type": "code",
   "execution_count": 12,
   "id": "d0a0dc4d-c1c1-4e68-8731-9896bf635d96",
   "metadata": {},
   "outputs": [],
   "source": [
    "# Convert Date to Datetime format from Object type\n",
    "train['Date'] = pd.to_datetime(train['Date'])\n",
    "test['Date'] = pd.to_datetime(test['Date'])"
   ]
  },
  {
   "cell_type": "markdown",
   "id": "c3008e79-1208-40bb-915b-a394de951204",
   "metadata": {},
   "source": [
    "**NOTE** :- The code converts the Date column in both the train and test datasets from object type to datetime format for easier date-related analysis and operations."
   ]
  },
  {
   "cell_type": "code",
   "execution_count": 13,
   "id": "84c5e34c-7684-4e2b-ad08-2e970fe5bacb",
   "metadata": {},
   "outputs": [
    {
     "name": "stdout",
     "output_type": "stream",
     "text": [
      "<class 'pandas.core.frame.DataFrame'>\n",
      "RangeIndex: 1258 entries, 0 to 1257\n",
      "Data columns (total 6 columns):\n",
      " #   Column  Non-Null Count  Dtype         \n",
      "---  ------  --------------  -----         \n",
      " 0   Date    1258 non-null   datetime64[ns]\n",
      " 1   Open    1258 non-null   float64       \n",
      " 2   High    1258 non-null   float64       \n",
      " 3   Low     1258 non-null   float64       \n",
      " 4   Close   1258 non-null   object        \n",
      " 5   Volume  1258 non-null   object        \n",
      "dtypes: datetime64[ns](1), float64(3), object(2)\n",
      "memory usage: 59.1+ KB\n",
      "<class 'pandas.core.frame.DataFrame'>\n",
      "RangeIndex: 20 entries, 0 to 19\n",
      "Data columns (total 6 columns):\n",
      " #   Column  Non-Null Count  Dtype         \n",
      "---  ------  --------------  -----         \n",
      " 0   Date    20 non-null     datetime64[ns]\n",
      " 1   Open    20 non-null     float64       \n",
      " 2   High    20 non-null     float64       \n",
      " 3   Low     20 non-null     float64       \n",
      " 4   Close   20 non-null     float64       \n",
      " 5   Volume  20 non-null     object        \n",
      "dtypes: datetime64[ns](1), float64(4), object(1)\n",
      "memory usage: 1.1+ KB\n"
     ]
    },
    {
     "data": {
      "text/plain": [
       "(None, None)"
      ]
     },
     "execution_count": 13,
     "metadata": {},
     "output_type": "execute_result"
    }
   ],
   "source": [
    "train.info(), test.info()"
   ]
  },
  {
   "cell_type": "code",
   "execution_count": 14,
   "id": "6a5c12f1-108c-4a6b-abf2-b9f713084812",
   "metadata": {},
   "outputs": [],
   "source": [
    "# Convert Close to Float format from Object type\n",
    "train['Close'] = train['Close'].astype(str).replace(',', '', regex=True)\n",
    "train['Close'] = pd.to_numeric(train['Close'], errors='coerce')"
   ]
  },
  {
   "cell_type": "code",
   "execution_count": 15,
   "id": "74698e16-745c-47bf-9462-b7b537821cd7",
   "metadata": {},
   "outputs": [],
   "source": [
    "# Remove the , from volume feature for format the dtype from Object to int\n",
    "train['Volume'] = train['Volume'].astype(str).replace(',', '', regex=True)\n",
    "train['Volume'] = pd.to_numeric(train['Volume'], errors='coerce')\n",
    "\n",
    "test['Volume'] = test['Volume'].astype(str).replace(',', '', regex=True)\n",
    "test['Volume'] = pd.to_numeric(test['Volume'], errors='coerce')"
   ]
  },
  {
   "cell_type": "markdown",
   "id": "c5038d73-bc98-49ac-82bf-dc2188d836d0",
   "metadata": {},
   "source": [
    "The code performs two key operations:\n",
    "\n",
    "1. It converts the `Close` column in the `train` dataset from an object type to a float format, ensuring proper handling of numerical values by replacing commas and coercing errors.\n",
    "2. It processes the `Volume` column in both the `train` and `test` datasets by removing commas, then converting the column from an object type to an integer format using `pd.to_numeric`, allowing for numerical analysis."
   ]
  },
  {
   "cell_type": "code",
   "execution_count": 16,
   "id": "d1721ca4-86c1-4795-b279-409a4c7aded9",
   "metadata": {},
   "outputs": [
    {
     "name": "stdout",
     "output_type": "stream",
     "text": [
      "<class 'pandas.core.frame.DataFrame'>\n",
      "RangeIndex: 1258 entries, 0 to 1257\n",
      "Data columns (total 6 columns):\n",
      " #   Column  Non-Null Count  Dtype         \n",
      "---  ------  --------------  -----         \n",
      " 0   Date    1258 non-null   datetime64[ns]\n",
      " 1   Open    1258 non-null   float64       \n",
      " 2   High    1258 non-null   float64       \n",
      " 3   Low     1258 non-null   float64       \n",
      " 4   Close   1258 non-null   float64       \n",
      " 5   Volume  1258 non-null   int64         \n",
      "dtypes: datetime64[ns](1), float64(4), int64(1)\n",
      "memory usage: 59.1 KB\n",
      "<class 'pandas.core.frame.DataFrame'>\n",
      "RangeIndex: 20 entries, 0 to 19\n",
      "Data columns (total 6 columns):\n",
      " #   Column  Non-Null Count  Dtype         \n",
      "---  ------  --------------  -----         \n",
      " 0   Date    20 non-null     datetime64[ns]\n",
      " 1   Open    20 non-null     float64       \n",
      " 2   High    20 non-null     float64       \n",
      " 3   Low     20 non-null     float64       \n",
      " 4   Close   20 non-null     float64       \n",
      " 5   Volume  20 non-null     int64         \n",
      "dtypes: datetime64[ns](1), float64(4), int64(1)\n",
      "memory usage: 1.1 KB\n"
     ]
    },
    {
     "data": {
      "text/plain": [
       "(None, None)"
      ]
     },
     "execution_count": 16,
     "metadata": {},
     "output_type": "execute_result"
    }
   ],
   "source": [
    "train.info(), test.info()"
   ]
  },
  {
   "cell_type": "code",
   "execution_count": 17,
   "id": "aeb9ea00-888e-4571-a5d4-2cf47d94e801",
   "metadata": {},
   "outputs": [],
   "source": [
    "test = pd.concat([train.tail(58), test], axis=0)\n",
    "\n",
    "train = train.iloc[:1200 , 0: ]"
   ]
  },
  {
   "cell_type": "code",
   "execution_count": 18,
   "id": "1b02edac-1d37-48b8-ba88-c97b350b44bb",
   "metadata": {},
   "outputs": [],
   "source": [
    "train.set_index('Date', inplace = True) # set Date column as index\n",
    "train.sort_index(inplace = True) # sort the Index\n",
    "\n",
    "test.set_index('Date', inplace = True) # set Date column as index\n",
    "test.sort_index(inplace = True) # sort the Index"
   ]
  },
  {
   "cell_type": "markdown",
   "id": "44034dd7-cd6f-4085-a374-7f815b413c41",
   "metadata": {},
   "source": [
    "The code sets the Date column as the index for both train and test datasets and sorts the index to organize the data chronologically."
   ]
  },
  {
   "cell_type": "code",
   "execution_count": 19,
   "id": "9306ca45-566e-4a26-9171-5fff4da72676",
   "metadata": {},
   "outputs": [
    {
     "data": {
      "text/html": [
       "<div>\n",
       "<style scoped>\n",
       "    .dataframe tbody tr th:only-of-type {\n",
       "        vertical-align: middle;\n",
       "    }\n",
       "\n",
       "    .dataframe tbody tr th {\n",
       "        vertical-align: top;\n",
       "    }\n",
       "\n",
       "    .dataframe thead th {\n",
       "        text-align: right;\n",
       "    }\n",
       "</style>\n",
       "<table border=\"1\" class=\"dataframe\">\n",
       "  <thead>\n",
       "    <tr style=\"text-align: right;\">\n",
       "      <th></th>\n",
       "      <th>Open</th>\n",
       "      <th>High</th>\n",
       "      <th>Low</th>\n",
       "      <th>Close</th>\n",
       "      <th>Volume</th>\n",
       "    </tr>\n",
       "  </thead>\n",
       "  <tbody>\n",
       "    <tr>\n",
       "      <th>count</th>\n",
       "      <td>1200.000000</td>\n",
       "      <td>1200.000000</td>\n",
       "      <td>1200.000000</td>\n",
       "      <td>1200.00000</td>\n",
       "      <td>1.200000e+03</td>\n",
       "    </tr>\n",
       "    <tr>\n",
       "      <th>mean</th>\n",
       "      <td>521.784192</td>\n",
       "      <td>525.880433</td>\n",
       "      <td>517.180208</td>\n",
       "      <td>709.44445</td>\n",
       "      <td>3.225123e+06</td>\n",
       "    </tr>\n",
       "    <tr>\n",
       "      <th>std</th>\n",
       "      <td>145.224780</td>\n",
       "      <td>146.310264</td>\n",
       "      <td>143.912346</td>\n",
       "      <td>167.98047</td>\n",
       "      <td>2.300469e+06</td>\n",
       "    </tr>\n",
       "    <tr>\n",
       "      <th>min</th>\n",
       "      <td>279.120000</td>\n",
       "      <td>281.210000</td>\n",
       "      <td>277.220000</td>\n",
       "      <td>491.20000</td>\n",
       "      <td>7.900000e+03</td>\n",
       "    </tr>\n",
       "    <tr>\n",
       "      <th>25%</th>\n",
       "      <td>398.642500</td>\n",
       "      <td>401.332500</td>\n",
       "      <td>394.960000</td>\n",
       "      <td>574.32500</td>\n",
       "      <td>1.645300e+06</td>\n",
       "    </tr>\n",
       "    <tr>\n",
       "      <th>50%</th>\n",
       "      <td>533.950000</td>\n",
       "      <td>538.285000</td>\n",
       "      <td>529.730000</td>\n",
       "      <td>683.37500</td>\n",
       "      <td>2.663400e+06</td>\n",
       "    </tr>\n",
       "    <tr>\n",
       "      <th>75%</th>\n",
       "      <td>612.642500</td>\n",
       "      <td>620.822500</td>\n",
       "      <td>605.015000</td>\n",
       "      <td>776.50250</td>\n",
       "      <td>4.187950e+06</td>\n",
       "    </tr>\n",
       "    <tr>\n",
       "      <th>max</th>\n",
       "      <td>786.590000</td>\n",
       "      <td>789.870000</td>\n",
       "      <td>784.150000</td>\n",
       "      <td>1216.83000</td>\n",
       "      <td>2.497790e+07</td>\n",
       "    </tr>\n",
       "  </tbody>\n",
       "</table>\n",
       "</div>"
      ],
      "text/plain": [
       "              Open         High          Low       Close        Volume\n",
       "count  1200.000000  1200.000000  1200.000000  1200.00000  1.200000e+03\n",
       "mean    521.784192   525.880433   517.180208   709.44445  3.225123e+06\n",
       "std     145.224780   146.310264   143.912346   167.98047  2.300469e+06\n",
       "min     279.120000   281.210000   277.220000   491.20000  7.900000e+03\n",
       "25%     398.642500   401.332500   394.960000   574.32500  1.645300e+06\n",
       "50%     533.950000   538.285000   529.730000   683.37500  2.663400e+06\n",
       "75%     612.642500   620.822500   605.015000   776.50250  4.187950e+06\n",
       "max     786.590000   789.870000   784.150000  1216.83000  2.497790e+07"
      ]
     },
     "execution_count": 19,
     "metadata": {},
     "output_type": "execute_result"
    }
   ],
   "source": [
    "train.describe() # central tendency analysis of Data"
   ]
  },
  {
   "cell_type": "code",
   "execution_count": 20,
   "id": "b912eed4-3ce0-4901-bded-27e219ab109c",
   "metadata": {
    "scrolled": true
   },
   "outputs": [
    {
     "data": {
      "image/png": "[encoded data removed]",
      "text/plain": [
       "<Figure size 1500x300 with 5 Axes>"
      ]
     },
     "metadata": {},
     "output_type": "display_data"
    }
   ],
   "source": [
    "plt.figure(figsize=(15, 3))\n",
    "\n",
    "# Iterate through columns and create subplots\n",
    "for i, col in enumerate(train.columns, 1):  # Start enumeration at 1 for subplot indexing\n",
    "    plt.subplot(1, len(train.columns), i)  # Create a subplot for each column\n",
    "    sns.lineplot(data=train, y=col, x=train.index)\n",
    "    plt.title(col)  # Set title for each subplot\n",
    "    plt.ylabel('')  # Hide y-axis label\n",
    "    plt.xlabel('Index')  # Label x-axis as Index\n",
    "\n",
    "plt.tight_layout()  # Adjust subplots to fit in figure area\n",
    "plt.show()"
   ]
  },
  {
   "cell_type": "code",
   "execution_count": 21,
   "id": "55c73ceb-abe4-4ce7-ab77-be87709fc298",
   "metadata": {},
   "outputs": [
    {
     "data": {
      "image/png": "[encoded data removed]",
      "text/plain": [
       "<Figure size 1500x300 with 5 Axes>"
      ]
     },
     "metadata": {},
     "output_type": "display_data"
    }
   ],
   "source": [
    "plt.figure(figsize=(15, 3))\n",
    "\n",
    "# Iterate through columns and create subplots\n",
    "for i, col in enumerate(test.columns, 1):  # Start enumeration at 1 for subplot indexing\n",
    "    plt.subplot(1, len(test.columns), i)  # Create a subplot for each column\n",
    "    sns.lineplot(data=test, y=col, x=test.index)\n",
    "    plt.title(col)  # Set title for each subplot\n",
    "    plt.ylabel('')  # Hide y-axis label\n",
    "    plt.xlabel('Index')  # Label x-axis as Index\n",
    "\n",
    "plt.tight_layout()  # Adjust subplots to fit in figure area\n",
    "plt.show()"
   ]
  },
  {
   "cell_type": "markdown",
   "id": "142535d2-c1c9-4812-8882-c16a90e42236",
   "metadata": {},
   "source": [
    "# Handling Data Issues in the Dataset\n",
    "Upon analyzing the dataset, we observed discrepancies in the Closing Price values. Specifically:\n",
    "\n",
    "The Closing Price is unrealistically high compared to the Opening Price.\n",
    "The Closing Price does not align with the reported Day High Price, suggesting errors or inconsistencies in the data.\n",
    "These issues render the affected rows unreliable for modeling purposes. As approximately 45% of the dataset is impacted, imputation methods such as using the mean, median, or mode are not viable, as they could introduce significant bias or distort patterns in the data.\n",
    "\n",
    "Resolution:\n",
    "\n",
    "We will exclude these records from the dataset to ensure the quality and integrity of the data used for training the model."
   ]
  },
  {
   "cell_type": "code",
   "execution_count": 22,
   "id": "8b1eb6d6-eb8d-444b-95d7-cae7c54d68a4",
   "metadata": {
    "scrolled": true
   },
   "outputs": [
    {
     "data": {
      "text/html": [
       "<div>\n",
       "<style scoped>\n",
       "    .dataframe tbody tr th:only-of-type {\n",
       "        vertical-align: middle;\n",
       "    }\n",
       "\n",
       "    .dataframe tbody tr th {\n",
       "        vertical-align: top;\n",
       "    }\n",
       "\n",
       "    .dataframe thead th {\n",
       "        text-align: right;\n",
       "    }\n",
       "</style>\n",
       "<table border=\"1\" class=\"dataframe\">\n",
       "  <thead>\n",
       "    <tr style=\"text-align: right;\">\n",
       "      <th></th>\n",
       "      <th>Open</th>\n",
       "      <th>High</th>\n",
       "      <th>Low</th>\n",
       "      <th>Close</th>\n",
       "      <th>Volume</th>\n",
       "    </tr>\n",
       "    <tr>\n",
       "      <th>Date</th>\n",
       "      <th></th>\n",
       "      <th></th>\n",
       "      <th></th>\n",
       "      <th></th>\n",
       "      <th></th>\n",
       "    </tr>\n",
       "  </thead>\n",
       "  <tbody>\n",
       "    <tr>\n",
       "      <th>2014-03-13</th>\n",
       "      <td>601.72</td>\n",
       "      <td>602.99</td>\n",
       "      <td>590.17</td>\n",
       "      <td>1185.80</td>\n",
       "      <td>4708600</td>\n",
       "    </tr>\n",
       "    <tr>\n",
       "      <th>2014-03-14</th>\n",
       "      <td>588.79</td>\n",
       "      <td>593.21</td>\n",
       "      <td>584.08</td>\n",
       "      <td>1169.59</td>\n",
       "      <td>4604900</td>\n",
       "    </tr>\n",
       "    <tr>\n",
       "      <th>2014-03-17</th>\n",
       "      <td>587.42</td>\n",
       "      <td>596.30</td>\n",
       "      <td>586.86</td>\n",
       "      <td>1188.84</td>\n",
       "      <td>4340300</td>\n",
       "    </tr>\n",
       "    <tr>\n",
       "      <th>2014-03-18</th>\n",
       "      <td>595.10</td>\n",
       "      <td>603.50</td>\n",
       "      <td>594.30</td>\n",
       "      <td>1207.94</td>\n",
       "      <td>3643500</td>\n",
       "    </tr>\n",
       "    <tr>\n",
       "      <th>2014-03-19</th>\n",
       "      <td>603.64</td>\n",
       "      <td>603.73</td>\n",
       "      <td>594.97</td>\n",
       "      <td>1195.97</td>\n",
       "      <td>3237800</td>\n",
       "    </tr>\n",
       "    <tr>\n",
       "      <th>2014-03-20</th>\n",
       "      <td>597.73</td>\n",
       "      <td>602.55</td>\n",
       "      <td>595.45</td>\n",
       "      <td>1193.88</td>\n",
       "      <td>3381900</td>\n",
       "    </tr>\n",
       "    <tr>\n",
       "      <th>2014-03-21</th>\n",
       "      <td>600.90</td>\n",
       "      <td>602.56</td>\n",
       "      <td>589.02</td>\n",
       "      <td>1179.80</td>\n",
       "      <td>6441000</td>\n",
       "    </tr>\n",
       "    <tr>\n",
       "      <th>2014-03-24</th>\n",
       "      <td>589.88</td>\n",
       "      <td>590.24</td>\n",
       "      <td>570.84</td>\n",
       "      <td>1154.76</td>\n",
       "      <td>6096800</td>\n",
       "    </tr>\n",
       "    <tr>\n",
       "      <th>2014-03-25</th>\n",
       "      <td>580.82</td>\n",
       "      <td>582.74</td>\n",
       "      <td>571.36</td>\n",
       "      <td>1155.55</td>\n",
       "      <td>4838400</td>\n",
       "    </tr>\n",
       "    <tr>\n",
       "      <th>2014-03-26</th>\n",
       "      <td>578.84</td>\n",
       "      <td>583.60</td>\n",
       "      <td>563.64</td>\n",
       "      <td>1128.87</td>\n",
       "      <td>5179200</td>\n",
       "    </tr>\n",
       "    <tr>\n",
       "      <th>2014-03-27</th>\n",
       "      <td>566.44</td>\n",
       "      <td>566.44</td>\n",
       "      <td>551.41</td>\n",
       "      <td>556.93</td>\n",
       "      <td>13100</td>\n",
       "    </tr>\n",
       "    <tr>\n",
       "      <th>2014-03-28</th>\n",
       "      <td>559.66</td>\n",
       "      <td>564.88</td>\n",
       "      <td>557.14</td>\n",
       "      <td>558.46</td>\n",
       "      <td>41200</td>\n",
       "    </tr>\n",
       "    <tr>\n",
       "      <th>2014-03-31</th>\n",
       "      <td>565.34</td>\n",
       "      <td>565.45</td>\n",
       "      <td>555.41</td>\n",
       "      <td>555.45</td>\n",
       "      <td>10800</td>\n",
       "    </tr>\n",
       "    <tr>\n",
       "      <th>2014-04-01</th>\n",
       "      <td>557.18</td>\n",
       "      <td>566.89</td>\n",
       "      <td>557.18</td>\n",
       "      <td>565.61</td>\n",
       "      <td>7900</td>\n",
       "    </tr>\n",
       "    <tr>\n",
       "      <th>2014-04-02</th>\n",
       "      <td>598.35</td>\n",
       "      <td>603.17</td>\n",
       "      <td>560.65</td>\n",
       "      <td>565.45</td>\n",
       "      <td>147100</td>\n",
       "    </tr>\n",
       "    <tr>\n",
       "      <th>2014-04-03</th>\n",
       "      <td>568.29</td>\n",
       "      <td>585.67</td>\n",
       "      <td>562.59</td>\n",
       "      <td>568.18</td>\n",
       "      <td>5099100</td>\n",
       "    </tr>\n",
       "    <tr>\n",
       "      <th>2014-04-04</th>\n",
       "      <td>573.08</td>\n",
       "      <td>576.19</td>\n",
       "      <td>541.51</td>\n",
       "      <td>541.65</td>\n",
       "      <td>6369300</td>\n",
       "    </tr>\n",
       "    <tr>\n",
       "      <th>2014-04-07</th>\n",
       "      <td>539.26</td>\n",
       "      <td>546.98</td>\n",
       "      <td>525.71</td>\n",
       "      <td>536.68</td>\n",
       "      <td>4401600</td>\n",
       "    </tr>\n",
       "    <tr>\n",
       "      <th>2014-04-08</th>\n",
       "      <td>541.11</td>\n",
       "      <td>553.48</td>\n",
       "      <td>540.13</td>\n",
       "      <td>553.38</td>\n",
       "      <td>3151200</td>\n",
       "    </tr>\n",
       "    <tr>\n",
       "      <th>2014-04-09</th>\n",
       "      <td>558.09</td>\n",
       "      <td>563.82</td>\n",
       "      <td>551.44</td>\n",
       "      <td>562.60</td>\n",
       "      <td>3330800</td>\n",
       "    </tr>\n",
       "  </tbody>\n",
       "</table>\n",
       "</div>"
      ],
      "text/plain": [
       "              Open    High     Low    Close   Volume\n",
       "Date                                                \n",
       "2014-03-13  601.72  602.99  590.17  1185.80  4708600\n",
       "2014-03-14  588.79  593.21  584.08  1169.59  4604900\n",
       "2014-03-17  587.42  596.30  586.86  1188.84  4340300\n",
       "2014-03-18  595.10  603.50  594.30  1207.94  3643500\n",
       "2014-03-19  603.64  603.73  594.97  1195.97  3237800\n",
       "2014-03-20  597.73  602.55  595.45  1193.88  3381900\n",
       "2014-03-21  600.90  602.56  589.02  1179.80  6441000\n",
       "2014-03-24  589.88  590.24  570.84  1154.76  6096800\n",
       "2014-03-25  580.82  582.74  571.36  1155.55  4838400\n",
       "2014-03-26  578.84  583.60  563.64  1128.87  5179200\n",
       "2014-03-27  566.44  566.44  551.41   556.93    13100\n",
       "2014-03-28  559.66  564.88  557.14   558.46    41200\n",
       "2014-03-31  565.34  565.45  555.41   555.45    10800\n",
       "2014-04-01  557.18  566.89  557.18   565.61     7900\n",
       "2014-04-02  598.35  603.17  560.65   565.45   147100\n",
       "2014-04-03  568.29  585.67  562.59   568.18  5099100\n",
       "2014-04-04  573.08  576.19  541.51   541.65  6369300\n",
       "2014-04-07  539.26  546.98  525.71   536.68  4401600\n",
       "2014-04-08  541.11  553.48  540.13   553.38  3151200\n",
       "2014-04-09  558.09  563.82  551.44   562.60  3330800"
      ]
     },
     "execution_count": 22,
     "metadata": {},
     "output_type": "execute_result"
    }
   ],
   "source": [
    "train.iloc[ 550: 570]"
   ]
  },
  {
   "cell_type": "code",
   "execution_count": 23,
   "id": "86f43e56-ff6f-4428-af15-fd27183ff620",
   "metadata": {},
   "outputs": [],
   "source": [
    "train.iloc[ 0:560, 3 ] = train.iloc[ 0:560, 3] / 2"
   ]
  },
  {
   "cell_type": "code",
   "execution_count": 24,
   "id": "c36c1478-361e-4b6a-97bb-c968b3cb4af8",
   "metadata": {},
   "outputs": [
    {
     "data": {
      "image/png": "[encoded data removed]",
      "text/plain": [
       "<Figure size 1500x300 with 5 Axes>"
      ]
     },
     "metadata": {},
     "output_type": "display_data"
    }
   ],
   "source": [
    "plt.figure(figsize=(15, 3))\n",
    "\n",
    "# Iterate through columns and create subplots\n",
    "for i, col in enumerate(train.columns, 1):  # Start enumeration at 1 for subplot indexing\n",
    "    plt.subplot(1, len(train.columns), i)  # Create a subplot for each column\n",
    "    sns.lineplot(data=train, y=col, x=train.index)\n",
    "    plt.title(col)  # Set title for each subplot\n",
    "    plt.ylabel('')  # Hide y-axis label\n",
    "    plt.xlabel('Index')  # Label x-axis as Index\n",
    "\n",
    "plt.tight_layout()  # Adjust subplots to fit in figure area\n",
    "plt.show()"
   ]
  },
  {
   "cell_type": "code",
   "execution_count": 25,
   "id": "7417c291-5b15-46fc-a1bb-790056f72c9f",
   "metadata": {},
   "outputs": [
    {
     "data": {
      "text/plain": [
       "Open      0\n",
       "High      0\n",
       "Low       0\n",
       "Close     0\n",
       "Volume    0\n",
       "dtype: int64"
      ]
     },
     "execution_count": 25,
     "metadata": {},
     "output_type": "execute_result"
    }
   ],
   "source": [
    "train.isna().sum()"
   ]
  },
  {
   "cell_type": "code",
   "execution_count": 26,
   "id": "22c92893-24a8-4fc5-a79c-1c2ce91f4183",
   "metadata": {},
   "outputs": [
    {
     "data": {
      "text/html": [
       "<div>\n",
       "<style scoped>\n",
       "    .dataframe tbody tr th:only-of-type {\n",
       "        vertical-align: middle;\n",
       "    }\n",
       "\n",
       "    .dataframe tbody tr th {\n",
       "        vertical-align: top;\n",
       "    }\n",
       "\n",
       "    .dataframe thead th {\n",
       "        text-align: right;\n",
       "    }\n",
       "</style>\n",
       "<table border=\"1\" class=\"dataframe\">\n",
       "  <thead>\n",
       "    <tr style=\"text-align: right;\">\n",
       "      <th></th>\n",
       "      <th>Open</th>\n",
       "      <th>High</th>\n",
       "      <th>Low</th>\n",
       "      <th>Close</th>\n",
       "      <th>Volume</th>\n",
       "    </tr>\n",
       "    <tr>\n",
       "      <th>Date</th>\n",
       "      <th></th>\n",
       "      <th></th>\n",
       "      <th></th>\n",
       "      <th></th>\n",
       "      <th></th>\n",
       "    </tr>\n",
       "  </thead>\n",
       "  <tbody>\n",
       "    <tr>\n",
       "      <th>2012-01-03</th>\n",
       "      <td>325.25</td>\n",
       "      <td>332.83</td>\n",
       "      <td>324.97</td>\n",
       "      <td>331.795</td>\n",
       "      <td>7380500</td>\n",
       "    </tr>\n",
       "    <tr>\n",
       "      <th>2012-01-04</th>\n",
       "      <td>331.27</td>\n",
       "      <td>333.87</td>\n",
       "      <td>329.08</td>\n",
       "      <td>333.225</td>\n",
       "      <td>5749400</td>\n",
       "    </tr>\n",
       "    <tr>\n",
       "      <th>2012-01-05</th>\n",
       "      <td>329.83</td>\n",
       "      <td>330.75</td>\n",
       "      <td>326.89</td>\n",
       "      <td>328.605</td>\n",
       "      <td>6590300</td>\n",
       "    </tr>\n",
       "    <tr>\n",
       "      <th>2012-01-06</th>\n",
       "      <td>328.34</td>\n",
       "      <td>328.77</td>\n",
       "      <td>323.68</td>\n",
       "      <td>324.120</td>\n",
       "      <td>5405900</td>\n",
       "    </tr>\n",
       "    <tr>\n",
       "      <th>2012-01-09</th>\n",
       "      <td>322.04</td>\n",
       "      <td>322.29</td>\n",
       "      <td>309.46</td>\n",
       "      <td>310.380</td>\n",
       "      <td>11688800</td>\n",
       "    </tr>\n",
       "    <tr>\n",
       "      <th>...</th>\n",
       "      <td>...</td>\n",
       "      <td>...</td>\n",
       "      <td>...</td>\n",
       "      <td>...</td>\n",
       "      <td>...</td>\n",
       "    </tr>\n",
       "    <tr>\n",
       "      <th>2016-10-03</th>\n",
       "      <td>774.25</td>\n",
       "      <td>776.07</td>\n",
       "      <td>769.50</td>\n",
       "      <td>772.560</td>\n",
       "      <td>1278800</td>\n",
       "    </tr>\n",
       "    <tr>\n",
       "      <th>2016-10-04</th>\n",
       "      <td>776.03</td>\n",
       "      <td>778.71</td>\n",
       "      <td>772.89</td>\n",
       "      <td>776.430</td>\n",
       "      <td>1201400</td>\n",
       "    </tr>\n",
       "    <tr>\n",
       "      <th>2016-10-05</th>\n",
       "      <td>779.31</td>\n",
       "      <td>782.07</td>\n",
       "      <td>775.65</td>\n",
       "      <td>776.470</td>\n",
       "      <td>1461200</td>\n",
       "    </tr>\n",
       "    <tr>\n",
       "      <th>2016-10-06</th>\n",
       "      <td>779.00</td>\n",
       "      <td>780.48</td>\n",
       "      <td>775.54</td>\n",
       "      <td>776.860</td>\n",
       "      <td>1070700</td>\n",
       "    </tr>\n",
       "    <tr>\n",
       "      <th>2016-10-07</th>\n",
       "      <td>779.66</td>\n",
       "      <td>779.66</td>\n",
       "      <td>770.75</td>\n",
       "      <td>775.080</td>\n",
       "      <td>933200</td>\n",
       "    </tr>\n",
       "  </tbody>\n",
       "</table>\n",
       "<p>1200 rows × 5 columns</p>\n",
       "</div>"
      ],
      "text/plain": [
       "              Open    High     Low    Close    Volume\n",
       "Date                                                 \n",
       "2012-01-03  325.25  332.83  324.97  331.795   7380500\n",
       "2012-01-04  331.27  333.87  329.08  333.225   5749400\n",
       "2012-01-05  329.83  330.75  326.89  328.605   6590300\n",
       "2012-01-06  328.34  328.77  323.68  324.120   5405900\n",
       "2012-01-09  322.04  322.29  309.46  310.380  11688800\n",
       "...            ...     ...     ...      ...       ...\n",
       "2016-10-03  774.25  776.07  769.50  772.560   1278800\n",
       "2016-10-04  776.03  778.71  772.89  776.430   1201400\n",
       "2016-10-05  779.31  782.07  775.65  776.470   1461200\n",
       "2016-10-06  779.00  780.48  775.54  776.860   1070700\n",
       "2016-10-07  779.66  779.66  770.75  775.080    933200\n",
       "\n",
       "[1200 rows x 5 columns]"
      ]
     },
     "execution_count": 26,
     "metadata": {},
     "output_type": "execute_result"
    }
   ],
   "source": [
    "train"
   ]
  },
  {
   "cell_type": "code",
   "execution_count": 27,
   "id": "2a955081-f39b-4227-95f9-019a0d0abad8",
   "metadata": {},
   "outputs": [
    {
     "data": {
      "text/html": [
       "<div>\n",
       "<style scoped>\n",
       "    .dataframe tbody tr th:only-of-type {\n",
       "        vertical-align: middle;\n",
       "    }\n",
       "\n",
       "    .dataframe tbody tr th {\n",
       "        vertical-align: top;\n",
       "    }\n",
       "\n",
       "    .dataframe thead th {\n",
       "        text-align: right;\n",
       "    }\n",
       "</style>\n",
       "<table border=\"1\" class=\"dataframe\">\n",
       "  <thead>\n",
       "    <tr style=\"text-align: right;\">\n",
       "      <th></th>\n",
       "      <th>Open</th>\n",
       "      <th>High</th>\n",
       "      <th>Low</th>\n",
       "      <th>Close</th>\n",
       "      <th>Volume</th>\n",
       "    </tr>\n",
       "    <tr>\n",
       "      <th>Date</th>\n",
       "      <th></th>\n",
       "      <th></th>\n",
       "      <th></th>\n",
       "      <th></th>\n",
       "      <th></th>\n",
       "    </tr>\n",
       "  </thead>\n",
       "  <tbody>\n",
       "    <tr>\n",
       "      <th>2012-01-03</th>\n",
       "      <td>325.25</td>\n",
       "      <td>332.83</td>\n",
       "      <td>324.97</td>\n",
       "      <td>331.795</td>\n",
       "      <td>7380500</td>\n",
       "    </tr>\n",
       "    <tr>\n",
       "      <th>2012-01-04</th>\n",
       "      <td>331.27</td>\n",
       "      <td>333.87</td>\n",
       "      <td>329.08</td>\n",
       "      <td>333.225</td>\n",
       "      <td>5749400</td>\n",
       "    </tr>\n",
       "    <tr>\n",
       "      <th>2012-01-05</th>\n",
       "      <td>329.83</td>\n",
       "      <td>330.75</td>\n",
       "      <td>326.89</td>\n",
       "      <td>328.605</td>\n",
       "      <td>6590300</td>\n",
       "    </tr>\n",
       "    <tr>\n",
       "      <th>2012-01-06</th>\n",
       "      <td>328.34</td>\n",
       "      <td>328.77</td>\n",
       "      <td>323.68</td>\n",
       "      <td>324.120</td>\n",
       "      <td>5405900</td>\n",
       "    </tr>\n",
       "    <tr>\n",
       "      <th>2012-01-09</th>\n",
       "      <td>322.04</td>\n",
       "      <td>322.29</td>\n",
       "      <td>309.46</td>\n",
       "      <td>310.380</td>\n",
       "      <td>11688800</td>\n",
       "    </tr>\n",
       "  </tbody>\n",
       "</table>\n",
       "</div>"
      ],
      "text/plain": [
       "              Open    High     Low    Close    Volume\n",
       "Date                                                 \n",
       "2012-01-03  325.25  332.83  324.97  331.795   7380500\n",
       "2012-01-04  331.27  333.87  329.08  333.225   5749400\n",
       "2012-01-05  329.83  330.75  326.89  328.605   6590300\n",
       "2012-01-06  328.34  328.77  323.68  324.120   5405900\n",
       "2012-01-09  322.04  322.29  309.46  310.380  11688800"
      ]
     },
     "execution_count": 27,
     "metadata": {},
     "output_type": "execute_result"
    }
   ],
   "source": [
    "train.head()"
   ]
  },
  {
   "cell_type": "code",
   "execution_count": 28,
   "id": "ff950002-04e8-4ee9-a7f0-f42e075d5a22",
   "metadata": {},
   "outputs": [
    {
     "data": {
      "text/plain": [
       "array([[0.09090193, 0.10148233, 0.09419446, 0.10430721, 0.29525831],\n",
       "       [0.1027647 , 0.10352691, 0.10230209, 0.10711968, 0.22993592],\n",
       "       [0.09992709, 0.09739315, 0.09798197, 0.09803324, 0.26361233],\n",
       "       ...,\n",
       "       [0.98565432, 0.98466559, 0.9832324 , 0.97887698, 0.05820184],\n",
       "       [0.98504345, 0.98153973, 0.98301541, 0.97964402, 0.04256308],\n",
       "       [0.98634402, 0.97992765, 0.97356637, 0.97614318, 0.03705647]])"
      ]
     },
     "execution_count": 28,
     "metadata": {},
     "output_type": "execute_result"
    }
   ],
   "source": [
    "scaler = MinMaxScaler()\n",
    "train = scaler.fit_transform(train)\n",
    "train"
   ]
  },
  {
   "cell_type": "markdown",
   "id": "061e301b-7489-42da-8b34-9564e94bbf80",
   "metadata": {},
   "source": [
    "The code scales the train dataset to a range between 0 and 1 using Min-Max scaling for normalization."
   ]
  },
  {
   "cell_type": "code",
   "execution_count": 29,
   "id": "40392115-d7d0-4842-80d9-b9494db00d0e",
   "metadata": {},
   "outputs": [],
   "source": [
    "X_train = []\n",
    "\n",
    "y_train = []"
   ]
  },
  {
   "cell_type": "code",
   "execution_count": 30,
   "id": "e9c1ceea-3436-4037-820f-47df05b39326",
   "metadata": {},
   "outputs": [
    {
     "data": {
      "text/plain": [
       "1200"
      ]
     },
     "execution_count": 30,
     "metadata": {},
     "output_type": "execute_result"
    }
   ],
   "source": [
    "train.shape[0]"
   ]
  },
  {
   "cell_type": "code",
   "execution_count": 31,
   "id": "8a8d6b65-8a1e-4026-9266-d4f4b78dd3aa",
   "metadata": {},
   "outputs": [],
   "source": [
    "time_stemp = 5\n",
    "for i in range (time_stemp,train.shape[0]):\n",
    "    X_train.append(train[i - time_stemp:i])\n",
    "    y_train.append(train[i,0])"
   ]
  },
  {
   "cell_type": "code",
   "execution_count": 32,
   "id": "be6f84f5-ccd6-4255-bf3f-73f2a03777f8",
   "metadata": {},
   "outputs": [],
   "source": [
    "X_train, y_train = np.array(X_train), np.array(y_train)"
   ]
  },
  {
   "cell_type": "code",
   "execution_count": 33,
   "id": "66162bb2-7bec-4b96-b725-3454039e8d33",
   "metadata": {},
   "outputs": [
    {
     "data": {
      "text/plain": [
       "((1195, 5, 5), (1195,))"
      ]
     },
     "execution_count": 33,
     "metadata": {},
     "output_type": "execute_result"
    }
   ],
   "source": [
    "X_train.shape,y_train.shape"
   ]
  },
  {
   "cell_type": "markdown",
   "id": "4034c87e-4671-4fd1-b6da-2509453f8120",
   "metadata": {},
   "source": [
    "\n",
    "**NOTE:-** The code creates sequences of 5 time steps (time_step = 5) from the train dataset, preparing X_train as input features of shape (1195, 5, 5) and y_train as corresponding target values of shape (1195,) for time-series modeling."
   ]
  },
  {
   "cell_type": "code",
   "execution_count": 34,
   "id": "9fb535c7-767f-4f9b-a6a6-a73f3cabfb1f",
   "metadata": {},
   "outputs": [
    {
     "data": {
      "text/plain": [
       "array([[[0.09090193, 0.10148233, 0.09419446, 0.10430721, 0.29525831],\n",
       "        [0.1027647 , 0.10352691, 0.10230209, 0.10711968, 0.22993592],\n",
       "        [0.09992709, 0.09739315, 0.09798197, 0.09803324, 0.26361233],\n",
       "        [0.09699096, 0.09350057, 0.09164973, 0.08921231, 0.21617942],\n",
       "        [0.08457643, 0.08076122, 0.06359852, 0.06218901, 0.46779736]],\n",
       "\n",
       "       [[0.1027647 , 0.10352691, 0.10230209, 0.10711968, 0.22993592],\n",
       "        [0.09992709, 0.09739315, 0.09798197, 0.09803324, 0.26361233],\n",
       "        [0.09699096, 0.09350057, 0.09164973, 0.08921231, 0.21617942],\n",
       "        [0.08457643, 0.08076122, 0.06359852, 0.06218901, 0.46779736],\n",
       "        [0.06814196, 0.06784493, 0.05933758, 0.06284787, 0.35306768]],\n",
       "\n",
       "       [[0.09992709, 0.09739315, 0.09798197, 0.09803324, 0.26361233],\n",
       "        [0.09699096, 0.09350057, 0.09164973, 0.08921231, 0.21617942],\n",
       "        [0.08457643, 0.08076122, 0.06359852, 0.06218901, 0.46779736],\n",
       "        [0.06814196, 0.06784493, 0.05933758, 0.06284787, 0.35306768],\n",
       "        [0.06201352, 0.06351984, 0.06348016, 0.06562101, 0.19262715]],\n",
       "\n",
       "       ...,\n",
       "\n",
       "       [[0.98277731, 0.98415445, 0.98189099, 0.9888878 , 0.04412895],\n",
       "        [0.98985162, 0.99199858, 0.98043122, 0.97600551, 0.0523348 ],\n",
       "        [0.97978206, 0.98244407, 0.98015505, 0.98048972, 0.06317181],\n",
       "        [0.97568329, 0.97286989, 0.97110055, 0.97118694, 0.05089708],\n",
       "        [0.97919089, 0.97806   , 0.97778786, 0.97879831, 0.04779736]],\n",
       "\n",
       "       [[0.98985162, 0.99199858, 0.98043122, 0.97600551, 0.0523348 ],\n",
       "        [0.97978206, 0.98244407, 0.98015505, 0.98048972, 0.06317181],\n",
       "        [0.97568329, 0.97286989, 0.97110055, 0.97118694, 0.05089708],\n",
       "        [0.97919089, 0.97806   , 0.97778786, 0.97879831, 0.04779736],\n",
       "        [0.98565432, 0.98466559, 0.9832324 , 0.97887698, 0.05820184]],\n",
       "\n",
       "       [[0.97978206, 0.98244407, 0.98015505, 0.98048972, 0.06317181],\n",
       "        [0.97568329, 0.97286989, 0.97110055, 0.97118694, 0.05089708],\n",
       "        [0.97919089, 0.97806   , 0.97778786, 0.97879831, 0.04779736],\n",
       "        [0.98565432, 0.98466559, 0.9832324 , 0.97887698, 0.05820184],\n",
       "        [0.98504345, 0.98153973, 0.98301541, 0.97964402, 0.04256308]]])"
      ]
     },
     "execution_count": 34,
     "metadata": {},
     "output_type": "execute_result"
    }
   ],
   "source": [
    "X_train"
   ]
  },
  {
   "cell_type": "markdown",
   "id": "19391894-ad47-4d7c-a1d4-f5b6e538d5d0",
   "metadata": {},
   "source": [
    "## Bulid LSTM"
   ]
  },
  {
   "cell_type": "code",
   "execution_count": 35,
   "id": "2135e81b-110e-48e8-b88e-b8f1e2388bf5",
   "metadata": {},
   "outputs": [
    {
     "data": {
      "text/plain": [
       "5"
      ]
     },
     "execution_count": 35,
     "metadata": {},
     "output_type": "execute_result"
    }
   ],
   "source": [
    "X_train.shape[1]"
   ]
  },
  {
   "cell_type": "code",
   "execution_count": 36,
   "id": "67aa7853-1be7-4e18-af52-abc5f60ce84f",
   "metadata": {},
   "outputs": [
    {
     "data": {
      "text/html": [
       "<pre style=\"white-space:pre;overflow-x:auto;line-height:normal;font-family:Menlo,'DejaVu Sans Mono',consolas,'Courier New',monospace\"><span style=\"font-weight: bold\">Model: \"sequential\"</span>\n",
       "</pre>\n"
      ],
      "text/plain": [
       "\u001b[1mModel: \"sequential\"\u001b[0m\n"
      ]
     },
     "metadata": {},
     "output_type": "display_data"
    },
    {
     "data": {
      "text/html": [
       "<pre style=\"white-space:pre;overflow-x:auto;line-height:normal;font-family:Menlo,'DejaVu Sans Mono',consolas,'Courier New',monospace\">┏━━━━━━━━━━━━━━━━━━━━━━━━━━━━━━━━━━━━━━┳━━━━━━━━━━━━━━━━━━━━━━━━━━━━━┳━━━━━━━━━━━━━━━━━┓\n",
       "┃<span style=\"font-weight: bold\"> Layer (type)                         </span>┃<span style=\"font-weight: bold\"> Output Shape                </span>┃<span style=\"font-weight: bold\">         Param # </span>┃\n",
       "┡━━━━━━━━━━━━━━━━━━━━━━━━━━━━━━━━━━━━━━╇━━━━━━━━━━━━━━━━━━━━━━━━━━━━━╇━━━━━━━━━━━━━━━━━┩\n",
       "│ lstm (<span style=\"color: #0087ff; text-decoration-color: #0087ff\">LSTM</span>)                          │ (<span style=\"color: #00d7ff; text-decoration-color: #00d7ff\">None</span>, <span style=\"color: #00af00; text-decoration-color: #00af00\">5</span>, <span style=\"color: #00af00; text-decoration-color: #00af00\">128</span>)              │          <span style=\"color: #00af00; text-decoration-color: #00af00\">68,608</span> │\n",
       "├──────────────────────────────────────┼─────────────────────────────┼─────────────────┤\n",
       "│ dropout (<span style=\"color: #0087ff; text-decoration-color: #0087ff\">Dropout</span>)                    │ (<span style=\"color: #00d7ff; text-decoration-color: #00d7ff\">None</span>, <span style=\"color: #00af00; text-decoration-color: #00af00\">5</span>, <span style=\"color: #00af00; text-decoration-color: #00af00\">128</span>)              │               <span style=\"color: #00af00; text-decoration-color: #00af00\">0</span> │\n",
       "├──────────────────────────────────────┼─────────────────────────────┼─────────────────┤\n",
       "│ lstm_1 (<span style=\"color: #0087ff; text-decoration-color: #0087ff\">LSTM</span>)                        │ (<span style=\"color: #00d7ff; text-decoration-color: #00d7ff\">None</span>, <span style=\"color: #00af00; text-decoration-color: #00af00\">5</span>, <span style=\"color: #00af00; text-decoration-color: #00af00\">128</span>)              │         <span style=\"color: #00af00; text-decoration-color: #00af00\">131,584</span> │\n",
       "├──────────────────────────────────────┼─────────────────────────────┼─────────────────┤\n",
       "│ dropout_1 (<span style=\"color: #0087ff; text-decoration-color: #0087ff\">Dropout</span>)                  │ (<span style=\"color: #00d7ff; text-decoration-color: #00d7ff\">None</span>, <span style=\"color: #00af00; text-decoration-color: #00af00\">5</span>, <span style=\"color: #00af00; text-decoration-color: #00af00\">128</span>)              │               <span style=\"color: #00af00; text-decoration-color: #00af00\">0</span> │\n",
       "├──────────────────────────────────────┼─────────────────────────────┼─────────────────┤\n",
       "│ lstm_2 (<span style=\"color: #0087ff; text-decoration-color: #0087ff\">LSTM</span>)                        │ (<span style=\"color: #00d7ff; text-decoration-color: #00d7ff\">None</span>, <span style=\"color: #00af00; text-decoration-color: #00af00\">5</span>, <span style=\"color: #00af00; text-decoration-color: #00af00\">64</span>)               │          <span style=\"color: #00af00; text-decoration-color: #00af00\">49,408</span> │\n",
       "├──────────────────────────────────────┼─────────────────────────────┼─────────────────┤\n",
       "│ dropout_2 (<span style=\"color: #0087ff; text-decoration-color: #0087ff\">Dropout</span>)                  │ (<span style=\"color: #00d7ff; text-decoration-color: #00d7ff\">None</span>, <span style=\"color: #00af00; text-decoration-color: #00af00\">5</span>, <span style=\"color: #00af00; text-decoration-color: #00af00\">64</span>)               │               <span style=\"color: #00af00; text-decoration-color: #00af00\">0</span> │\n",
       "├──────────────────────────────────────┼─────────────────────────────┼─────────────────┤\n",
       "│ lstm_3 (<span style=\"color: #0087ff; text-decoration-color: #0087ff\">LSTM</span>)                        │ (<span style=\"color: #00d7ff; text-decoration-color: #00d7ff\">None</span>, <span style=\"color: #00af00; text-decoration-color: #00af00\">32</span>)                  │          <span style=\"color: #00af00; text-decoration-color: #00af00\">12,416</span> │\n",
       "├──────────────────────────────────────┼─────────────────────────────┼─────────────────┤\n",
       "│ dropout_3 (<span style=\"color: #0087ff; text-decoration-color: #0087ff\">Dropout</span>)                  │ (<span style=\"color: #00d7ff; text-decoration-color: #00d7ff\">None</span>, <span style=\"color: #00af00; text-decoration-color: #00af00\">32</span>)                  │               <span style=\"color: #00af00; text-decoration-color: #00af00\">0</span> │\n",
       "├──────────────────────────────────────┼─────────────────────────────┼─────────────────┤\n",
       "│ dense (<span style=\"color: #0087ff; text-decoration-color: #0087ff\">Dense</span>)                        │ (<span style=\"color: #00d7ff; text-decoration-color: #00d7ff\">None</span>, <span style=\"color: #00af00; text-decoration-color: #00af00\">1</span>)                   │              <span style=\"color: #00af00; text-decoration-color: #00af00\">33</span> │\n",
       "└──────────────────────────────────────┴─────────────────────────────┴─────────────────┘\n",
       "</pre>\n"
      ],
      "text/plain": [
       "┏━━━━━━━━━━━━━━━━━━━━━━━━━━━━━━━━━━━━━━┳━━━━━━━━━━━━━━━━━━━━━━━━━━━━━┳━━━━━━━━━━━━━━━━━┓\n",
       "┃\u001b[1m \u001b[0m\u001b[1mLayer (type)                        \u001b[0m\u001b[1m \u001b[0m┃\u001b[1m \u001b[0m\u001b[1mOutput Shape               \u001b[0m\u001b[1m \u001b[0m┃\u001b[1m \u001b[0m\u001b[1m        Param #\u001b[0m\u001b[1m \u001b[0m┃\n",
       "┡━━━━━━━━━━━━━━━━━━━━━━━━━━━━━━━━━━━━━━╇━━━━━━━━━━━━━━━━━━━━━━━━━━━━━╇━━━━━━━━━━━━━━━━━┩\n",
       "│ lstm (\u001b[38;5;33mLSTM\u001b[0m)                          │ (\u001b[38;5;45mNone\u001b[0m, \u001b[38;5;34m5\u001b[0m, \u001b[38;5;34m128\u001b[0m)              │          \u001b[38;5;34m68,608\u001b[0m │\n",
       "├──────────────────────────────────────┼─────────────────────────────┼─────────────────┤\n",
       "│ dropout (\u001b[38;5;33mDropout\u001b[0m)                    │ (\u001b[38;5;45mNone\u001b[0m, \u001b[38;5;34m5\u001b[0m, \u001b[38;5;34m128\u001b[0m)              │               \u001b[38;5;34m0\u001b[0m │\n",
       "├──────────────────────────────────────┼─────────────────────────────┼─────────────────┤\n",
       "│ lstm_1 (\u001b[38;5;33mLSTM\u001b[0m)                        │ (\u001b[38;5;45mNone\u001b[0m, \u001b[38;5;34m5\u001b[0m, \u001b[38;5;34m128\u001b[0m)              │         \u001b[38;5;34m131,584\u001b[0m │\n",
       "├──────────────────────────────────────┼─────────────────────────────┼─────────────────┤\n",
       "│ dropout_1 (\u001b[38;5;33mDropout\u001b[0m)                  │ (\u001b[38;5;45mNone\u001b[0m, \u001b[38;5;34m5\u001b[0m, \u001b[38;5;34m128\u001b[0m)              │               \u001b[38;5;34m0\u001b[0m │\n",
       "├──────────────────────────────────────┼─────────────────────────────┼─────────────────┤\n",
       "│ lstm_2 (\u001b[38;5;33mLSTM\u001b[0m)                        │ (\u001b[38;5;45mNone\u001b[0m, \u001b[38;5;34m5\u001b[0m, \u001b[38;5;34m64\u001b[0m)               │          \u001b[38;5;34m49,408\u001b[0m │\n",
       "├──────────────────────────────────────┼─────────────────────────────┼─────────────────┤\n",
       "│ dropout_2 (\u001b[38;5;33mDropout\u001b[0m)                  │ (\u001b[38;5;45mNone\u001b[0m, \u001b[38;5;34m5\u001b[0m, \u001b[38;5;34m64\u001b[0m)               │               \u001b[38;5;34m0\u001b[0m │\n",
       "├──────────────────────────────────────┼─────────────────────────────┼─────────────────┤\n",
       "│ lstm_3 (\u001b[38;5;33mLSTM\u001b[0m)                        │ (\u001b[38;5;45mNone\u001b[0m, \u001b[38;5;34m32\u001b[0m)                  │          \u001b[38;5;34m12,416\u001b[0m │\n",
       "├──────────────────────────────────────┼─────────────────────────────┼─────────────────┤\n",
       "│ dropout_3 (\u001b[38;5;33mDropout\u001b[0m)                  │ (\u001b[38;5;45mNone\u001b[0m, \u001b[38;5;34m32\u001b[0m)                  │               \u001b[38;5;34m0\u001b[0m │\n",
       "├──────────────────────────────────────┼─────────────────────────────┼─────────────────┤\n",
       "│ dense (\u001b[38;5;33mDense\u001b[0m)                        │ (\u001b[38;5;45mNone\u001b[0m, \u001b[38;5;34m1\u001b[0m)                   │              \u001b[38;5;34m33\u001b[0m │\n",
       "└──────────────────────────────────────┴─────────────────────────────┴─────────────────┘\n"
      ]
     },
     "metadata": {},
     "output_type": "display_data"
    },
    {
     "data": {
      "text/html": [
       "<pre style=\"white-space:pre;overflow-x:auto;line-height:normal;font-family:Menlo,'DejaVu Sans Mono',consolas,'Courier New',monospace\"><span style=\"font-weight: bold\"> Total params: </span><span style=\"color: #00af00; text-decoration-color: #00af00\">262,049</span> (1023.63 KB)\n",
       "</pre>\n"
      ],
      "text/plain": [
       "\u001b[1m Total params: \u001b[0m\u001b[38;5;34m262,049\u001b[0m (1023.63 KB)\n"
      ]
     },
     "metadata": {},
     "output_type": "display_data"
    },
    {
     "data": {
      "text/html": [
       "<pre style=\"white-space:pre;overflow-x:auto;line-height:normal;font-family:Menlo,'DejaVu Sans Mono',consolas,'Courier New',monospace\"><span style=\"font-weight: bold\"> Trainable params: </span><span style=\"color: #00af00; text-decoration-color: #00af00\">262,049</span> (1023.63 KB)\n",
       "</pre>\n"
      ],
      "text/plain": [
       "\u001b[1m Trainable params: \u001b[0m\u001b[38;5;34m262,049\u001b[0m (1023.63 KB)\n"
      ]
     },
     "metadata": {},
     "output_type": "display_data"
    },
    {
     "data": {
      "text/html": [
       "<pre style=\"white-space:pre;overflow-x:auto;line-height:normal;font-family:Menlo,'DejaVu Sans Mono',consolas,'Courier New',monospace\"><span style=\"font-weight: bold\"> Non-trainable params: </span><span style=\"color: #00af00; text-decoration-color: #00af00\">0</span> (0.00 B)\n",
       "</pre>\n"
      ],
      "text/plain": [
       "\u001b[1m Non-trainable params: \u001b[0m\u001b[38;5;34m0\u001b[0m (0.00 B)\n"
      ]
     },
     "metadata": {},
     "output_type": "display_data"
    }
   ],
   "source": [
    "model = Sequential()\n",
    "\n",
    "# First LSTM layer\n",
    "model.add(LSTM(units=128, activation='relu', return_sequences=True, input_shape=(X_train.shape[1], 5)))\n",
    "model.add(Dropout(0.2))  # Slightly increased dropout to prevent overfitting\n",
    "\n",
    "# Second LSTM layer (increased units for better feature learning)\n",
    "model.add(LSTM(units=128, activation='relu', return_sequences=True))\n",
    "model.add(Dropout(0.2))\n",
    "\n",
    "# Third LSTM layer (increased units for enhanced performance)\n",
    "model.add(LSTM(units=64, activation='relu', return_sequences=True))\n",
    "model.add(Dropout(0.2))\n",
    "\n",
    "# Fourth LSTM layer\n",
    "model.add(LSTM(units=32, activation='relu'))\n",
    "model.add(Dropout(0.2))\n",
    "\n",
    "# Dense layer for final output\n",
    "model.add(Dense(units=1))\n",
    "\n",
    "# Compile the model\n",
    "model.compile(optimizer='adam', loss='mean_squared_error')\n",
    "\n",
    "# Summary to check the architecture\n",
    "model.summary()\n"
   ]
  },
  {
   "cell_type": "markdown",
   "id": "2d50ecd3-f6df-4f9d-8984-6a159447e0f0",
   "metadata": {},
   "source": [
    "The code defines and compiles an LSTM-based sequential model with four LSTM layers (of varying units) and dropout layers to prevent overfitting, followed by a dense layer for predicting a single output, optimized using the Adam optimizer with a mean squared error loss function."
   ]
  },
  {
   "cell_type": "code",
   "execution_count": 37,
   "id": "be67638c-ed75-457e-bf29-b5b69f09ca81",
   "metadata": {},
   "outputs": [
    {
     "name": "stdout",
     "output_type": "stream",
     "text": [
      "Epoch 1/100\n",
      "\u001b[1m40/40\u001b[0m \u001b[32m━━━━━━━━━━━━━━━━━━━━\u001b[0m\u001b[37m\u001b[0m \u001b[1m20s\u001b[0m 21ms/step - loss: 0.2197\n",
      "Epoch 2/100\n",
      "\u001b[1m40/40\u001b[0m \u001b[32m━━━━━━━━━━━━━━━━━━━━\u001b[0m\u001b[37m\u001b[0m \u001b[1m1s\u001b[0m 19ms/step - loss: 0.0165\n",
      "Epoch 3/100\n",
      "\u001b[1m40/40\u001b[0m \u001b[32m━━━━━━━━━━━━━━━━━━━━\u001b[0m\u001b[37m\u001b[0m \u001b[1m1s\u001b[0m 19ms/step - loss: 0.0108\n",
      "Epoch 4/100\n",
      "\u001b[1m40/40\u001b[0m \u001b[32m━━━━━━━━━━━━━━━━━━━━\u001b[0m\u001b[37m\u001b[0m \u001b[1m1s\u001b[0m 19ms/step - loss: 0.0082\n",
      "Epoch 5/100\n",
      "\u001b[1m40/40\u001b[0m \u001b[32m━━━━━━━━━━━━━━━━━━━━\u001b[0m\u001b[37m\u001b[0m \u001b[1m1s\u001b[0m 19ms/step - loss: 0.0077\n",
      "Epoch 6/100\n",
      "\u001b[1m40/40\u001b[0m \u001b[32m━━━━━━━━━━━━━━━━━━━━\u001b[0m\u001b[37m\u001b[0m \u001b[1m1s\u001b[0m 20ms/step - loss: 0.0087\n",
      "Epoch 7/100\n",
      "\u001b[1m40/40\u001b[0m \u001b[32m━━━━━━━━━━━━━━━━━━━━\u001b[0m\u001b[37m\u001b[0m \u001b[1m1s\u001b[0m 20ms/step - loss: 0.0079\n",
      "Epoch 8/100\n",
      "\u001b[1m40/40\u001b[0m \u001b[32m━━━━━━━━━━━━━━━━━━━━\u001b[0m\u001b[37m\u001b[0m \u001b[1m1s\u001b[0m 21ms/step - loss: 0.0075\n",
      "Epoch 9/100\n",
      "\u001b[1m40/40\u001b[0m \u001b[32m━━━━━━━━━━━━━━━━━━━━\u001b[0m\u001b[37m\u001b[0m \u001b[1m1s\u001b[0m 19ms/step - loss: 0.0070\n",
      "Epoch 10/100\n",
      "\u001b[1m40/40\u001b[0m \u001b[32m━━━━━━━━━━━━━━━━━━━━\u001b[0m\u001b[37m\u001b[0m \u001b[1m1s\u001b[0m 22ms/step - loss: 0.0060\n",
      "Epoch 11/100\n",
      "\u001b[1m40/40\u001b[0m \u001b[32m━━━━━━━━━━━━━━━━━━━━\u001b[0m\u001b[37m\u001b[0m \u001b[1m1s\u001b[0m 21ms/step - loss: 0.0056\n",
      "Epoch 12/100\n",
      "\u001b[1m40/40\u001b[0m \u001b[32m━━━━━━━━━━━━━━━━━━━━\u001b[0m\u001b[37m\u001b[0m \u001b[1m1s\u001b[0m 24ms/step - loss: 0.0062\n",
      "Epoch 13/100\n",
      "\u001b[1m40/40\u001b[0m \u001b[32m━━━━━━━━━━━━━━━━━━━━\u001b[0m\u001b[37m\u001b[0m \u001b[1m1s\u001b[0m 22ms/step - loss: 0.0061\n",
      "Epoch 14/100\n",
      "\u001b[1m40/40\u001b[0m \u001b[32m━━━━━━━━━━━━━━━━━━━━\u001b[0m\u001b[37m\u001b[0m \u001b[1m1s\u001b[0m 23ms/step - loss: 0.0054\n",
      "Epoch 15/100\n",
      "\u001b[1m40/40\u001b[0m \u001b[32m━━━━━━━━━━━━━━━━━━━━\u001b[0m\u001b[37m\u001b[0m \u001b[1m1s\u001b[0m 19ms/step - loss: 0.0057\n",
      "Epoch 16/100\n",
      "\u001b[1m40/40\u001b[0m \u001b[32m━━━━━━━━━━━━━━━━━━━━\u001b[0m\u001b[37m\u001b[0m \u001b[1m1s\u001b[0m 20ms/step - loss: 0.0051\n",
      "Epoch 17/100\n",
      "\u001b[1m40/40\u001b[0m \u001b[32m━━━━━━━━━━━━━━━━━━━━\u001b[0m\u001b[37m\u001b[0m \u001b[1m1s\u001b[0m 20ms/step - loss: 0.0052\n",
      "Epoch 18/100\n",
      "\u001b[1m40/40\u001b[0m \u001b[32m━━━━━━━━━━━━━━━━━━━━\u001b[0m\u001b[37m\u001b[0m \u001b[1m1s\u001b[0m 22ms/step - loss: 0.0047\n",
      "Epoch 19/100\n",
      "\u001b[1m40/40\u001b[0m \u001b[32m━━━━━━━━━━━━━━━━━━━━\u001b[0m\u001b[37m\u001b[0m \u001b[1m1s\u001b[0m 22ms/step - loss: 0.0055\n",
      "Epoch 20/100\n",
      "\u001b[1m40/40\u001b[0m \u001b[32m━━━━━━━━━━━━━━━━━━━━\u001b[0m\u001b[37m\u001b[0m \u001b[1m1s\u001b[0m 22ms/step - loss: 0.0048\n",
      "Epoch 21/100\n",
      "\u001b[1m40/40\u001b[0m \u001b[32m━━━━━━━━━━━━━━━━━━━━\u001b[0m\u001b[37m\u001b[0m \u001b[1m1s\u001b[0m 21ms/step - loss: 0.0044\n",
      "Epoch 22/100\n",
      "\u001b[1m40/40\u001b[0m \u001b[32m━━━━━━━━━━━━━━━━━━━━\u001b[0m\u001b[37m\u001b[0m \u001b[1m1s\u001b[0m 20ms/step - loss: 0.0051\n",
      "Epoch 23/100\n",
      "\u001b[1m40/40\u001b[0m \u001b[32m━━━━━━━━━━━━━━━━━━━━\u001b[0m\u001b[37m\u001b[0m \u001b[1m1s\u001b[0m 19ms/step - loss: 0.0049\n",
      "Epoch 24/100\n",
      "\u001b[1m40/40\u001b[0m \u001b[32m━━━━━━━━━━━━━━━━━━━━\u001b[0m\u001b[37m\u001b[0m \u001b[1m1s\u001b[0m 22ms/step - loss: 0.0048\n",
      "Epoch 25/100\n",
      "\u001b[1m40/40\u001b[0m \u001b[32m━━━━━━━━━━━━━━━━━━━━\u001b[0m\u001b[37m\u001b[0m \u001b[1m1s\u001b[0m 19ms/step - loss: 0.0050\n",
      "Epoch 26/100\n",
      "\u001b[1m40/40\u001b[0m \u001b[32m━━━━━━━━━━━━━━━━━━━━\u001b[0m\u001b[37m\u001b[0m \u001b[1m1s\u001b[0m 19ms/step - loss: 0.0043\n",
      "Epoch 27/100\n",
      "\u001b[1m40/40\u001b[0m \u001b[32m━━━━━━━━━━━━━━━━━━━━\u001b[0m\u001b[37m\u001b[0m \u001b[1m1s\u001b[0m 19ms/step - loss: 0.0047\n",
      "Epoch 28/100\n",
      "\u001b[1m40/40\u001b[0m \u001b[32m━━━━━━━━━━━━━━━━━━━━\u001b[0m\u001b[37m\u001b[0m \u001b[1m1s\u001b[0m 21ms/step - loss: 0.0039\n",
      "Epoch 29/100\n",
      "\u001b[1m40/40\u001b[0m \u001b[32m━━━━━━━━━━━━━━━━━━━━\u001b[0m\u001b[37m\u001b[0m \u001b[1m1s\u001b[0m 22ms/step - loss: 0.0037\n",
      "Epoch 30/100\n",
      "\u001b[1m40/40\u001b[0m \u001b[32m━━━━━━━━━━━━━━━━━━━━\u001b[0m\u001b[37m\u001b[0m \u001b[1m1s\u001b[0m 19ms/step - loss: 0.0048\n",
      "Epoch 31/100\n",
      "\u001b[1m40/40\u001b[0m \u001b[32m━━━━━━━━━━━━━━━━━━━━\u001b[0m\u001b[37m\u001b[0m \u001b[1m1s\u001b[0m 20ms/step - loss: 0.0038\n",
      "Epoch 32/100\n",
      "\u001b[1m40/40\u001b[0m \u001b[32m━━━━━━━━━━━━━━━━━━━━\u001b[0m\u001b[37m\u001b[0m \u001b[1m1s\u001b[0m 20ms/step - loss: 0.0039\n",
      "Epoch 33/100\n",
      "\u001b[1m40/40\u001b[0m \u001b[32m━━━━━━━━━━━━━━━━━━━━\u001b[0m\u001b[37m\u001b[0m \u001b[1m1s\u001b[0m 20ms/step - loss: 0.0038\n",
      "Epoch 34/100\n",
      "\u001b[1m40/40\u001b[0m \u001b[32m━━━━━━━━━━━━━━━━━━━━\u001b[0m\u001b[37m\u001b[0m \u001b[1m1s\u001b[0m 20ms/step - loss: 0.0042\n",
      "Epoch 35/100\n",
      "\u001b[1m40/40\u001b[0m \u001b[32m━━━━━━━━━━━━━━━━━━━━\u001b[0m\u001b[37m\u001b[0m \u001b[1m1s\u001b[0m 22ms/step - loss: 0.0040\n",
      "Epoch 36/100\n",
      "\u001b[1m40/40\u001b[0m \u001b[32m━━━━━━━━━━━━━━━━━━━━\u001b[0m\u001b[37m\u001b[0m \u001b[1m1s\u001b[0m 20ms/step - loss: 0.0038\n",
      "Epoch 37/100\n",
      "\u001b[1m40/40\u001b[0m \u001b[32m━━━━━━━━━━━━━━━━━━━━\u001b[0m\u001b[37m\u001b[0m \u001b[1m1s\u001b[0m 21ms/step - loss: 0.0035\n",
      "Epoch 38/100\n",
      "\u001b[1m40/40\u001b[0m \u001b[32m━━━━━━━━━━━━━━━━━━━━\u001b[0m\u001b[37m\u001b[0m \u001b[1m1s\u001b[0m 21ms/step - loss: 0.0041\n",
      "Epoch 39/100\n",
      "\u001b[1m40/40\u001b[0m \u001b[32m━━━━━━━━━━━━━━━━━━━━\u001b[0m\u001b[37m\u001b[0m \u001b[1m1s\u001b[0m 20ms/step - loss: 0.0037\n",
      "Epoch 40/100\n",
      "\u001b[1m40/40\u001b[0m \u001b[32m━━━━━━━━━━━━━━━━━━━━\u001b[0m\u001b[37m\u001b[0m \u001b[1m1s\u001b[0m 22ms/step - loss: 0.0035\n",
      "Epoch 41/100\n",
      "\u001b[1m40/40\u001b[0m \u001b[32m━━━━━━━━━━━━━━━━━━━━\u001b[0m\u001b[37m\u001b[0m \u001b[1m1s\u001b[0m 21ms/step - loss: 0.0035\n",
      "Epoch 42/100\n",
      "\u001b[1m40/40\u001b[0m \u001b[32m━━━━━━━━━━━━━━━━━━━━\u001b[0m\u001b[37m\u001b[0m \u001b[1m1s\u001b[0m 20ms/step - loss: 0.0036\n",
      "Epoch 43/100\n",
      "\u001b[1m40/40\u001b[0m \u001b[32m━━━━━━━━━━━━━━━━━━━━\u001b[0m\u001b[37m\u001b[0m \u001b[1m1s\u001b[0m 20ms/step - loss: 0.0040\n",
      "Epoch 44/100\n",
      "\u001b[1m40/40\u001b[0m \u001b[32m━━━━━━━━━━━━━━━━━━━━\u001b[0m\u001b[37m\u001b[0m \u001b[1m1s\u001b[0m 24ms/step - loss: 0.0038\n",
      "Epoch 45/100\n",
      "\u001b[1m40/40\u001b[0m \u001b[32m━━━━━━━━━━━━━━━━━━━━\u001b[0m\u001b[37m\u001b[0m \u001b[1m1s\u001b[0m 26ms/step - loss: 0.0032\n",
      "Epoch 46/100\n",
      "\u001b[1m40/40\u001b[0m \u001b[32m━━━━━━━━━━━━━━━━━━━━\u001b[0m\u001b[37m\u001b[0m \u001b[1m1s\u001b[0m 24ms/step - loss: 0.0033\n",
      "Epoch 47/100\n",
      "\u001b[1m40/40\u001b[0m \u001b[32m━━━━━━━━━━━━━━━━━━━━\u001b[0m\u001b[37m\u001b[0m \u001b[1m1s\u001b[0m 24ms/step - loss: 0.0036\n",
      "Epoch 48/100\n",
      "\u001b[1m40/40\u001b[0m \u001b[32m━━━━━━━━━━━━━━━━━━━━\u001b[0m\u001b[37m\u001b[0m \u001b[1m1s\u001b[0m 22ms/step - loss: 0.0032\n",
      "Epoch 49/100\n",
      "\u001b[1m40/40\u001b[0m \u001b[32m━━━━━━━━━━━━━━━━━━━━\u001b[0m\u001b[37m\u001b[0m \u001b[1m1s\u001b[0m 22ms/step - loss: 0.0031\n",
      "Epoch 50/100\n",
      "\u001b[1m40/40\u001b[0m \u001b[32m━━━━━━━━━━━━━━━━━━━━\u001b[0m\u001b[37m\u001b[0m \u001b[1m1s\u001b[0m 20ms/step - loss: 0.0036\n",
      "Epoch 51/100\n",
      "\u001b[1m40/40\u001b[0m \u001b[32m━━━━━━━━━━━━━━━━━━━━\u001b[0m\u001b[37m\u001b[0m \u001b[1m1s\u001b[0m 21ms/step - loss: 0.0036\n",
      "Epoch 52/100\n",
      "\u001b[1m40/40\u001b[0m \u001b[32m━━━━━━━━━━━━━━━━━━━━\u001b[0m\u001b[37m\u001b[0m \u001b[1m1s\u001b[0m 21ms/step - loss: 0.0033\n",
      "Epoch 53/100\n",
      "\u001b[1m40/40\u001b[0m \u001b[32m━━━━━━━━━━━━━━━━━━━━\u001b[0m\u001b[37m\u001b[0m \u001b[1m1s\u001b[0m 20ms/step - loss: 0.0030\n",
      "Epoch 54/100\n",
      "\u001b[1m40/40\u001b[0m \u001b[32m━━━━━━━━━━━━━━━━━━━━\u001b[0m\u001b[37m\u001b[0m \u001b[1m1s\u001b[0m 21ms/step - loss: 0.0027\n",
      "Epoch 55/100\n",
      "\u001b[1m40/40\u001b[0m \u001b[32m━━━━━━━━━━━━━━━━━━━━\u001b[0m\u001b[37m\u001b[0m \u001b[1m1s\u001b[0m 19ms/step - loss: 0.0029\n",
      "Epoch 56/100\n",
      "\u001b[1m40/40\u001b[0m \u001b[32m━━━━━━━━━━━━━━━━━━━━\u001b[0m\u001b[37m\u001b[0m \u001b[1m1s\u001b[0m 22ms/step - loss: 0.0032\n",
      "Epoch 57/100\n",
      "\u001b[1m40/40\u001b[0m \u001b[32m━━━━━━━━━━━━━━━━━━━━\u001b[0m\u001b[37m\u001b[0m \u001b[1m1s\u001b[0m 21ms/step - loss: 0.0028\n",
      "Epoch 58/100\n",
      "\u001b[1m40/40\u001b[0m \u001b[32m━━━━━━━━━━━━━━━━━━━━\u001b[0m\u001b[37m\u001b[0m \u001b[1m1s\u001b[0m 22ms/step - loss: 0.0027\n",
      "Epoch 59/100\n",
      "\u001b[1m40/40\u001b[0m \u001b[32m━━━━━━━━━━━━━━━━━━━━\u001b[0m\u001b[37m\u001b[0m \u001b[1m1s\u001b[0m 20ms/step - loss: 0.0034\n",
      "Epoch 60/100\n",
      "\u001b[1m40/40\u001b[0m \u001b[32m━━━━━━━━━━━━━━━━━━━━\u001b[0m\u001b[37m\u001b[0m \u001b[1m1s\u001b[0m 19ms/step - loss: 0.0025\n",
      "Epoch 61/100\n",
      "\u001b[1m40/40\u001b[0m \u001b[32m━━━━━━━━━━━━━━━━━━━━\u001b[0m\u001b[37m\u001b[0m \u001b[1m1s\u001b[0m 19ms/step - loss: 0.0028\n",
      "Epoch 62/100\n",
      "\u001b[1m40/40\u001b[0m \u001b[32m━━━━━━━━━━━━━━━━━━━━\u001b[0m\u001b[37m\u001b[0m \u001b[1m1s\u001b[0m 20ms/step - loss: 0.0023\n",
      "Epoch 63/100\n",
      "\u001b[1m40/40\u001b[0m \u001b[32m━━━━━━━━━━━━━━━━━━━━\u001b[0m\u001b[37m\u001b[0m \u001b[1m1s\u001b[0m 20ms/step - loss: 0.0027\n",
      "Epoch 64/100\n",
      "\u001b[1m40/40\u001b[0m \u001b[32m━━━━━━━━━━━━━━━━━━━━\u001b[0m\u001b[37m\u001b[0m \u001b[1m1s\u001b[0m 20ms/step - loss: 0.0026\n",
      "Epoch 65/100\n",
      "\u001b[1m40/40\u001b[0m \u001b[32m━━━━━━━━━━━━━━━━━━━━\u001b[0m\u001b[37m\u001b[0m \u001b[1m1s\u001b[0m 22ms/step - loss: 0.0028\n",
      "Epoch 66/100\n",
      "\u001b[1m40/40\u001b[0m \u001b[32m━━━━━━━━━━━━━━━━━━━━\u001b[0m\u001b[37m\u001b[0m \u001b[1m1s\u001b[0m 21ms/step - loss: 0.0029\n",
      "Epoch 67/100\n",
      "\u001b[1m40/40\u001b[0m \u001b[32m━━━━━━━━━━━━━━━━━━━━\u001b[0m\u001b[37m\u001b[0m \u001b[1m1s\u001b[0m 22ms/step - loss: 0.0026\n",
      "Epoch 68/100\n",
      "\u001b[1m40/40\u001b[0m \u001b[32m━━━━━━━━━━━━━━━━━━━━\u001b[0m\u001b[37m\u001b[0m \u001b[1m1s\u001b[0m 20ms/step - loss: 0.0026\n",
      "Epoch 69/100\n",
      "\u001b[1m40/40\u001b[0m \u001b[32m━━━━━━━━━━━━━━━━━━━━\u001b[0m\u001b[37m\u001b[0m \u001b[1m1s\u001b[0m 22ms/step - loss: 0.0028\n",
      "Epoch 70/100\n",
      "\u001b[1m40/40\u001b[0m \u001b[32m━━━━━━━━━━━━━━━━━━━━\u001b[0m\u001b[37m\u001b[0m \u001b[1m1s\u001b[0m 22ms/step - loss: 0.0027\n",
      "Epoch 71/100\n",
      "\u001b[1m40/40\u001b[0m \u001b[32m━━━━━━━━━━━━━━━━━━━━\u001b[0m\u001b[37m\u001b[0m \u001b[1m1s\u001b[0m 21ms/step - loss: 0.0026\n",
      "Epoch 72/100\n",
      "\u001b[1m40/40\u001b[0m \u001b[32m━━━━━━━━━━━━━━━━━━━━\u001b[0m\u001b[37m\u001b[0m \u001b[1m1s\u001b[0m 22ms/step - loss: 0.0028\n",
      "Epoch 73/100\n",
      "\u001b[1m40/40\u001b[0m \u001b[32m━━━━━━━━━━━━━━━━━━━━\u001b[0m\u001b[37m\u001b[0m \u001b[1m1s\u001b[0m 22ms/step - loss: 0.0026\n",
      "Epoch 74/100\n",
      "\u001b[1m40/40\u001b[0m \u001b[32m━━━━━━━━━━━━━━━━━━━━\u001b[0m\u001b[37m\u001b[0m \u001b[1m1s\u001b[0m 23ms/step - loss: 0.0023\n",
      "Epoch 75/100\n",
      "\u001b[1m40/40\u001b[0m \u001b[32m━━━━━━━━━━━━━━━━━━━━\u001b[0m\u001b[37m\u001b[0m \u001b[1m1s\u001b[0m 22ms/step - loss: 0.0022\n",
      "Epoch 76/100\n",
      "\u001b[1m40/40\u001b[0m \u001b[32m━━━━━━━━━━━━━━━━━━━━\u001b[0m\u001b[37m\u001b[0m \u001b[1m1s\u001b[0m 22ms/step - loss: 0.0024\n",
      "Epoch 77/100\n",
      "\u001b[1m40/40\u001b[0m \u001b[32m━━━━━━━━━━━━━━━━━━━━\u001b[0m\u001b[37m\u001b[0m \u001b[1m1s\u001b[0m 23ms/step - loss: 0.0026\n",
      "Epoch 78/100\n",
      "\u001b[1m40/40\u001b[0m \u001b[32m━━━━━━━━━━━━━━━━━━━━\u001b[0m\u001b[37m\u001b[0m \u001b[1m1s\u001b[0m 21ms/step - loss: 0.0024\n",
      "Epoch 79/100\n",
      "\u001b[1m40/40\u001b[0m \u001b[32m━━━━━━━━━━━━━━━━━━━━\u001b[0m\u001b[37m\u001b[0m \u001b[1m1s\u001b[0m 20ms/step - loss: 0.0029\n",
      "Epoch 80/100\n",
      "\u001b[1m40/40\u001b[0m \u001b[32m━━━━━━━━━━━━━━━━━━━━\u001b[0m\u001b[37m\u001b[0m \u001b[1m1s\u001b[0m 20ms/step - loss: 0.0030\n",
      "Epoch 81/100\n",
      "\u001b[1m40/40\u001b[0m \u001b[32m━━━━━━━━━━━━━━━━━━━━\u001b[0m\u001b[37m\u001b[0m \u001b[1m1s\u001b[0m 20ms/step - loss: 0.0022\n",
      "Epoch 82/100\n",
      "\u001b[1m40/40\u001b[0m \u001b[32m━━━━━━━━━━━━━━━━━━━━\u001b[0m\u001b[37m\u001b[0m \u001b[1m1s\u001b[0m 22ms/step - loss: 0.0024\n",
      "Epoch 83/100\n",
      "\u001b[1m40/40\u001b[0m \u001b[32m━━━━━━━━━━━━━━━━━━━━\u001b[0m\u001b[37m\u001b[0m \u001b[1m1s\u001b[0m 22ms/step - loss: 0.0025\n",
      "Epoch 84/100\n",
      "\u001b[1m40/40\u001b[0m \u001b[32m━━━━━━━━━━━━━━━━━━━━\u001b[0m\u001b[37m\u001b[0m \u001b[1m1s\u001b[0m 21ms/step - loss: 0.0028\n",
      "Epoch 85/100\n",
      "\u001b[1m40/40\u001b[0m \u001b[32m━━━━━━━━━━━━━━━━━━━━\u001b[0m\u001b[37m\u001b[0m \u001b[1m1s\u001b[0m 22ms/step - loss: 0.0022\n",
      "Epoch 86/100\n",
      "\u001b[1m40/40\u001b[0m \u001b[32m━━━━━━━━━━━━━━━━━━━━\u001b[0m\u001b[37m\u001b[0m \u001b[1m1s\u001b[0m 20ms/step - loss: 0.0023\n",
      "Epoch 87/100\n",
      "\u001b[1m40/40\u001b[0m \u001b[32m━━━━━━━━━━━━━━━━━━━━\u001b[0m\u001b[37m\u001b[0m \u001b[1m1s\u001b[0m 20ms/step - loss: 0.0026\n",
      "Epoch 88/100\n",
      "\u001b[1m40/40\u001b[0m \u001b[32m━━━━━━━━━━━━━━━━━━━━\u001b[0m\u001b[37m\u001b[0m \u001b[1m1s\u001b[0m 20ms/step - loss: 0.0021\n",
      "Epoch 89/100\n",
      "\u001b[1m40/40\u001b[0m \u001b[32m━━━━━━━━━━━━━━━━━━━━\u001b[0m\u001b[37m\u001b[0m \u001b[1m1s\u001b[0m 22ms/step - loss: 0.0024\n",
      "Epoch 90/100\n",
      "\u001b[1m40/40\u001b[0m \u001b[32m━━━━━━━━━━━━━━━━━━━━\u001b[0m\u001b[37m\u001b[0m \u001b[1m1s\u001b[0m 22ms/step - loss: 0.0021\n",
      "Epoch 91/100\n",
      "\u001b[1m40/40\u001b[0m \u001b[32m━━━━━━━━━━━━━━━━━━━━\u001b[0m\u001b[37m\u001b[0m \u001b[1m1s\u001b[0m 24ms/step - loss: 0.0021\n",
      "Epoch 92/100\n",
      "\u001b[1m40/40\u001b[0m \u001b[32m━━━━━━━━━━━━━━━━━━━━\u001b[0m\u001b[37m\u001b[0m \u001b[1m1s\u001b[0m 23ms/step - loss: 0.0024\n",
      "Epoch 93/100\n",
      "\u001b[1m40/40\u001b[0m \u001b[32m━━━━━━━━━━━━━━━━━━━━\u001b[0m\u001b[37m\u001b[0m \u001b[1m1s\u001b[0m 24ms/step - loss: 0.0022\n",
      "Epoch 94/100\n",
      "\u001b[1m40/40\u001b[0m \u001b[32m━━━━━━━━━━━━━━━━━━━━\u001b[0m\u001b[37m\u001b[0m \u001b[1m1s\u001b[0m 30ms/step - loss: 0.0022\n",
      "Epoch 95/100\n",
      "\u001b[1m40/40\u001b[0m \u001b[32m━━━━━━━━━━━━━━━━━━━━\u001b[0m\u001b[37m\u001b[0m \u001b[1m2s\u001b[0m 42ms/step - loss: 0.0023\n",
      "Epoch 96/100\n",
      "\u001b[1m40/40\u001b[0m \u001b[32m━━━━━━━━━━━━━━━━━━━━\u001b[0m\u001b[37m\u001b[0m \u001b[1m2s\u001b[0m 43ms/step - loss: 0.0023\n",
      "Epoch 97/100\n",
      "\u001b[1m40/40\u001b[0m \u001b[32m━━━━━━━━━━━━━━━━━━━━\u001b[0m\u001b[37m\u001b[0m \u001b[1m2s\u001b[0m 51ms/step - loss: 0.0020\n",
      "Epoch 98/100\n",
      "\u001b[1m40/40\u001b[0m \u001b[32m━━━━━━━━━━━━━━━━━━━━\u001b[0m\u001b[37m\u001b[0m \u001b[1m2s\u001b[0m 48ms/step - loss: 0.0019\n",
      "Epoch 99/100\n",
      "\u001b[1m40/40\u001b[0m \u001b[32m━━━━━━━━━━━━━━━━━━━━\u001b[0m\u001b[37m\u001b[0m \u001b[1m2s\u001b[0m 40ms/step - loss: 0.0022\n",
      "Epoch 100/100\n",
      "\u001b[1m40/40\u001b[0m \u001b[32m━━━━━━━━━━━━━━━━━━━━\u001b[0m\u001b[37m\u001b[0m \u001b[1m2s\u001b[0m 40ms/step - loss: 0.0021\n"
     ]
    },
    {
     "data": {
      "text/plain": [
       "<keras.src.callbacks.history.History at 0x15bc6b24e60>"
      ]
     },
     "execution_count": 37,
     "metadata": {},
     "output_type": "execute_result"
    }
   ],
   "source": [
    "model.fit(X_train, y_train, epochs = 100, batch_size = 30)"
   ]
  },
  {
   "cell_type": "markdown",
   "id": "addb6bf9-ec42-4c89-a064-1eff2e27e7b8",
   "metadata": {},
   "source": [
    "The code trains the model on the X_train and y_train data for 100 epochs with a batch size of 30, allowing the model to learn patterns in the training data over multiple iterations."
   ]
  },
  {
   "cell_type": "code",
   "execution_count": 38,
   "id": "ab60ba98-c5f9-4f2c-9d35-9df2e0e022d1",
   "metadata": {},
   "outputs": [
    {
     "data": {
      "text/html": [
       "<div>\n",
       "<style scoped>\n",
       "    .dataframe tbody tr th:only-of-type {\n",
       "        vertical-align: middle;\n",
       "    }\n",
       "\n",
       "    .dataframe tbody tr th {\n",
       "        vertical-align: top;\n",
       "    }\n",
       "\n",
       "    .dataframe thead th {\n",
       "        text-align: right;\n",
       "    }\n",
       "</style>\n",
       "<table border=\"1\" class=\"dataframe\">\n",
       "  <thead>\n",
       "    <tr style=\"text-align: right;\">\n",
       "      <th></th>\n",
       "      <th>Open</th>\n",
       "      <th>High</th>\n",
       "      <th>Low</th>\n",
       "      <th>Close</th>\n",
       "      <th>Volume</th>\n",
       "    </tr>\n",
       "    <tr>\n",
       "      <th>Date</th>\n",
       "      <th></th>\n",
       "      <th></th>\n",
       "      <th></th>\n",
       "      <th></th>\n",
       "      <th></th>\n",
       "    </tr>\n",
       "  </thead>\n",
       "  <tbody>\n",
       "    <tr>\n",
       "      <th>2016-10-10</th>\n",
       "      <td>777.71</td>\n",
       "      <td>789.38</td>\n",
       "      <td>775.87</td>\n",
       "      <td>785.94</td>\n",
       "      <td>1174900</td>\n",
       "    </tr>\n",
       "    <tr>\n",
       "      <th>2016-10-11</th>\n",
       "      <td>786.66</td>\n",
       "      <td>792.28</td>\n",
       "      <td>780.58</td>\n",
       "      <td>783.07</td>\n",
       "      <td>1372500</td>\n",
       "    </tr>\n",
       "    <tr>\n",
       "      <th>2016-10-12</th>\n",
       "      <td>783.76</td>\n",
       "      <td>788.13</td>\n",
       "      <td>782.06</td>\n",
       "      <td>786.14</td>\n",
       "      <td>937400</td>\n",
       "    </tr>\n",
       "    <tr>\n",
       "      <th>2016-10-13</th>\n",
       "      <td>781.22</td>\n",
       "      <td>781.22</td>\n",
       "      <td>773.00</td>\n",
       "      <td>778.19</td>\n",
       "      <td>1365300</td>\n",
       "    </tr>\n",
       "    <tr>\n",
       "      <th>2016-10-14</th>\n",
       "      <td>781.65</td>\n",
       "      <td>783.95</td>\n",
       "      <td>776.00</td>\n",
       "      <td>778.53</td>\n",
       "      <td>852500</td>\n",
       "    </tr>\n",
       "    <tr>\n",
       "      <th>...</th>\n",
       "      <td>...</td>\n",
       "      <td>...</td>\n",
       "      <td>...</td>\n",
       "      <td>...</td>\n",
       "      <td>...</td>\n",
       "    </tr>\n",
       "    <tr>\n",
       "      <th>2017-01-25</th>\n",
       "      <td>829.62</td>\n",
       "      <td>835.77</td>\n",
       "      <td>825.06</td>\n",
       "      <td>835.67</td>\n",
       "      <td>1494500</td>\n",
       "    </tr>\n",
       "    <tr>\n",
       "      <th>2017-01-26</th>\n",
       "      <td>837.81</td>\n",
       "      <td>838.00</td>\n",
       "      <td>827.01</td>\n",
       "      <td>832.15</td>\n",
       "      <td>2973900</td>\n",
       "    </tr>\n",
       "    <tr>\n",
       "      <th>2017-01-27</th>\n",
       "      <td>834.71</td>\n",
       "      <td>841.95</td>\n",
       "      <td>820.44</td>\n",
       "      <td>823.31</td>\n",
       "      <td>2965800</td>\n",
       "    </tr>\n",
       "    <tr>\n",
       "      <th>2017-01-30</th>\n",
       "      <td>814.66</td>\n",
       "      <td>815.84</td>\n",
       "      <td>799.80</td>\n",
       "      <td>802.32</td>\n",
       "      <td>3246600</td>\n",
       "    </tr>\n",
       "    <tr>\n",
       "      <th>2017-01-31</th>\n",
       "      <td>796.86</td>\n",
       "      <td>801.25</td>\n",
       "      <td>790.52</td>\n",
       "      <td>796.79</td>\n",
       "      <td>2160600</td>\n",
       "    </tr>\n",
       "  </tbody>\n",
       "</table>\n",
       "<p>78 rows × 5 columns</p>\n",
       "</div>"
      ],
      "text/plain": [
       "              Open    High     Low   Close   Volume\n",
       "Date                                               \n",
       "2016-10-10  777.71  789.38  775.87  785.94  1174900\n",
       "2016-10-11  786.66  792.28  780.58  783.07  1372500\n",
       "2016-10-12  783.76  788.13  782.06  786.14   937400\n",
       "2016-10-13  781.22  781.22  773.00  778.19  1365300\n",
       "2016-10-14  781.65  783.95  776.00  778.53   852500\n",
       "...            ...     ...     ...     ...      ...\n",
       "2017-01-25  829.62  835.77  825.06  835.67  1494500\n",
       "2017-01-26  837.81  838.00  827.01  832.15  2973900\n",
       "2017-01-27  834.71  841.95  820.44  823.31  2965800\n",
       "2017-01-30  814.66  815.84  799.80  802.32  3246600\n",
       "2017-01-31  796.86  801.25  790.52  796.79  2160600\n",
       "\n",
       "[78 rows x 5 columns]"
      ]
     },
     "execution_count": 38,
     "metadata": {},
     "output_type": "execute_result"
    }
   ],
   "source": [
    "test"
   ]
  },
  {
   "cell_type": "code",
   "execution_count": 39,
   "id": "fb9d77d6-288f-434a-900b-c2ede9396b9d",
   "metadata": {},
   "outputs": [
    {
     "name": "stdout",
     "output_type": "stream",
     "text": [
      "<class 'pandas.core.frame.DataFrame'>\n",
      "DatetimeIndex: 78 entries, 2016-10-10 to 2017-01-31\n",
      "Data columns (total 5 columns):\n",
      " #   Column  Non-Null Count  Dtype  \n",
      "---  ------  --------------  -----  \n",
      " 0   Open    78 non-null     float64\n",
      " 1   High    78 non-null     float64\n",
      " 2   Low     78 non-null     float64\n",
      " 3   Close   78 non-null     float64\n",
      " 4   Volume  78 non-null     int64  \n",
      "dtypes: float64(4), int64(1)\n",
      "memory usage: 3.7 KB\n"
     ]
    }
   ],
   "source": [
    "test.info()"
   ]
  },
  {
   "cell_type": "code",
   "execution_count": 40,
   "id": "a28fa873-de9f-4139-bf4e-abed33a51566",
   "metadata": {},
   "outputs": [
    {
     "data": {
      "text/html": [
       "<div>\n",
       "<style scoped>\n",
       "    .dataframe tbody tr th:only-of-type {\n",
       "        vertical-align: middle;\n",
       "    }\n",
       "\n",
       "    .dataframe tbody tr th {\n",
       "        vertical-align: top;\n",
       "    }\n",
       "\n",
       "    .dataframe thead th {\n",
       "        text-align: right;\n",
       "    }\n",
       "</style>\n",
       "<table border=\"1\" class=\"dataframe\">\n",
       "  <thead>\n",
       "    <tr style=\"text-align: right;\">\n",
       "      <th></th>\n",
       "      <th>Open</th>\n",
       "      <th>High</th>\n",
       "      <th>Low</th>\n",
       "      <th>Close</th>\n",
       "      <th>Volume</th>\n",
       "    </tr>\n",
       "  </thead>\n",
       "  <tbody>\n",
       "    <tr>\n",
       "      <th>count</th>\n",
       "      <td>78.000000</td>\n",
       "      <td>78.000000</td>\n",
       "      <td>78.000000</td>\n",
       "      <td>78.000000</td>\n",
       "      <td>7.800000e+01</td>\n",
       "    </tr>\n",
       "    <tr>\n",
       "      <th>mean</th>\n",
       "      <td>787.390513</td>\n",
       "      <td>792.760641</td>\n",
       "      <td>780.949487</td>\n",
       "      <td>786.707564</td>\n",
       "      <td>1.742928e+06</td>\n",
       "    </tr>\n",
       "    <tr>\n",
       "      <th>std</th>\n",
       "      <td>20.262766</td>\n",
       "      <td>19.016560</td>\n",
       "      <td>20.872477</td>\n",
       "      <td>20.138046</td>\n",
       "      <td>7.660770e+05</td>\n",
       "    </tr>\n",
       "    <tr>\n",
       "      <th>min</th>\n",
       "      <td>744.590000</td>\n",
       "      <td>754.000000</td>\n",
       "      <td>727.540000</td>\n",
       "      <td>736.080000</td>\n",
       "      <td>5.874000e+05</td>\n",
       "    </tr>\n",
       "    <tr>\n",
       "      <th>25%</th>\n",
       "      <td>772.517500</td>\n",
       "      <td>778.757500</td>\n",
       "      <td>764.922500</td>\n",
       "      <td>770.927500</td>\n",
       "      <td>1.277900e+06</td>\n",
       "    </tr>\n",
       "    <tr>\n",
       "      <th>50%</th>\n",
       "      <td>788.105000</td>\n",
       "      <td>793.030000</td>\n",
       "      <td>783.600000</td>\n",
       "      <td>789.280000</td>\n",
       "      <td>1.589100e+06</td>\n",
       "    </tr>\n",
       "    <tr>\n",
       "      <th>75%</th>\n",
       "      <td>802.725000</td>\n",
       "      <td>805.807500</td>\n",
       "      <td>795.525000</td>\n",
       "      <td>799.295000</td>\n",
       "      <td>2.092300e+06</td>\n",
       "    </tr>\n",
       "    <tr>\n",
       "      <th>max</th>\n",
       "      <td>837.810000</td>\n",
       "      <td>841.950000</td>\n",
       "      <td>827.010000</td>\n",
       "      <td>835.670000</td>\n",
       "      <td>4.745200e+06</td>\n",
       "    </tr>\n",
       "  </tbody>\n",
       "</table>\n",
       "</div>"
      ],
      "text/plain": [
       "             Open        High         Low       Close        Volume\n",
       "count   78.000000   78.000000   78.000000   78.000000  7.800000e+01\n",
       "mean   787.390513  792.760641  780.949487  786.707564  1.742928e+06\n",
       "std     20.262766   19.016560   20.872477   20.138046  7.660770e+05\n",
       "min    744.590000  754.000000  727.540000  736.080000  5.874000e+05\n",
       "25%    772.517500  778.757500  764.922500  770.927500  1.277900e+06\n",
       "50%    788.105000  793.030000  783.600000  789.280000  1.589100e+06\n",
       "75%    802.725000  805.807500  795.525000  799.295000  2.092300e+06\n",
       "max    837.810000  841.950000  827.010000  835.670000  4.745200e+06"
      ]
     },
     "execution_count": 40,
     "metadata": {},
     "output_type": "execute_result"
    }
   ],
   "source": [
    "test.describe()"
   ]
  },
  {
   "cell_type": "code",
   "execution_count": 41,
   "id": "2d60b925-da54-46ae-95b4-ffeed59c723d",
   "metadata": {},
   "outputs": [
    {
     "data": {
      "text/plain": [
       "array([[0.35528856, 0.40227402, 0.48587514, 0.50065268, 0.14130069],\n",
       "       [0.451298  , 0.4352473 , 0.5332261 , 0.47183452, 0.18882582],\n",
       "       [0.4201888 , 0.3880614 , 0.54810496, 0.50266091, 0.08417913],\n",
       "       [0.39294143, 0.30949403, 0.45702222, 0.42283362, 0.18709414],\n",
       "       [0.39755417, 0.34053439, 0.48718206, 0.42624762, 0.06375968],\n",
       "       [0.37770865, 0.36213758, 0.50226199, 0.44060649, 0.12160277],\n",
       "       [0.46406351, 0.5413303 , 0.58339198, 0.59423637, 0.3534321 ],\n",
       "       [0.57552027, 0.57532689, 0.70865588, 0.65689326, 0.28365963],\n",
       "       [0.62980047, 0.56816373, 0.68854931, 0.61140677, 0.28142287],\n",
       "       [0.54076378, 0.5173394 , 0.66814115, 0.63550557, 0.16325942],\n",
       "       [0.64696417, 0.69562251, 0.77691766, 0.77347123, 0.26699216],\n",
       "       [0.7733319 , 0.71267766, 0.78013471, 0.71884727, 0.23786618],\n",
       "       [0.6624115 , 0.60238772, 0.69146476, 0.63249322, 0.25501467],\n",
       "       [0.60512766, 0.56270608, 0.64300794, 0.59514007, 0.51993843],\n",
       "       [0.6839734 , 0.69914724, 0.6640193 , 0.5953409 , 0.88568474],\n",
       "       [0.54580562, 0.48732234, 0.56760832, 0.48659504, 0.44251768],\n",
       "       [0.41085604, 0.40352473, 0.48255756, 0.47725675, 0.43749098],\n",
       "       [0.36054495, 0.31438317, 0.36101337, 0.32754293, 0.30905767],\n",
       "       [0.24308088, 0.18135304, 0.31657786, 0.26157245, 0.32608591],\n",
       "       [0.06511478, 0.18601478, 0.23142656, 0.26046792, 0.37216797],\n",
       "       [0.32085389, 0.35463331, 0.45249824, 0.46631188, 0.23995863],\n",
       "       [0.41632697, 0.47333712, 0.52930532, 0.54654082, 0.18747896],\n",
       "       [0.37921047, 0.4233087 , 0.44365135, 0.49432674, 0.4857617 ],\n",
       "       [0.49967818, 0.42262649, 0.24771288, 0.26589015, 1.        ],\n",
       "       [0.12819138, 0.07708926, 0.22961697, 0.18013857, 0.44359998],\n",
       "       [0.1181077 , 0.04377487, 0.        , 0.        , 0.73764972],\n",
       "       [0.025531  , 0.11847641, 0.19533528, 0.22502259, 0.43210352],\n",
       "       [0.11381678, 0.14053439, 0.2309239 , 0.28516919, 0.21290105],\n",
       "       [0.23954087, 0.21262081, 0.36885493, 0.35294708, 0.17235076],\n",
       "       [0.28727741, 0.23877203, 0.32632955, 0.24560699, 0.23081918],\n",
       "       [0.19330616, 0.17851052, 0.33236152, 0.33256351, 0.17874838],\n",
       "       [0.30079382, 0.26105742, 0.39670252, 0.32322522, 0.24188273],\n",
       "       [0.24822999, 0.16236498, 0.27857646, 0.25012551, 0.21429602],\n",
       "       [0.21100622, 0.12507106, 0.33155725, 0.25705392, 0.        ],\n",
       "       [0.16530787, 0.29027857, 0.32431889, 0.32292399, 0.3850113 ],\n",
       "       [0.28899378, 0.27856737, 0.40916859, 0.34903103, 0.24753475],\n",
       "       [0.2733319 , 0.21591814, 0.27435408, 0.22050407, 0.43424407],\n",
       "       [0.13784596, 0.06651507, 0.09540565, 0.11888744, 0.58456395],\n",
       "       [0.        , 0.        , 0.15642907, 0.14479365, 0.20806677],\n",
       "       [0.14074233, 0.11256396, 0.25495124, 0.2654885 , 0.19404493],\n",
       "       [0.21604806, 0.16861853, 0.29958782, 0.23124812, 0.26535668],\n",
       "       [0.17603519, 0.19738488, 0.28410576, 0.35254544, 0.28226466],\n",
       "       [0.29918472, 0.27492894, 0.39901478, 0.40506075, 0.21662899],\n",
       "       [0.37985411, 0.40284252, 0.51754298, 0.53429059, 0.29691183],\n",
       "       [0.43391976, 0.4235361 , 0.57112697, 0.53408977, 0.36478426],\n",
       "       [0.52896374, 0.57282547, 0.66150598, 0.60267095, 0.3746693 ],\n",
       "       [0.56650933, 0.56850483, 0.66824168, 0.61241088, 0.26860359],\n",
       "       [0.56586569, 0.55713474, 0.6572836 , 0.620243  , 0.24991582],\n",
       "       [0.59869127, 0.53280273, 0.63084347, 0.54945276, 0.44648612],\n",
       "       [0.48948723, 0.49641842, 0.59042928, 0.58359273, 0.15505796],\n",
       "       [0.55964385, 0.50767482, 0.66080225, 0.60588412, 0.08745009],\n",
       "       [0.54977473, 0.48527572, 0.5987735 , 0.58720755, 0.15005532],\n",
       "       [0.51244368, 0.4470722 , 0.61365236, 0.55407169, 0.09254894],\n",
       "       [0.49678181, 0.44047754, 0.60058309, 0.54051612, 0.00865843],\n",
       "       [0.4944218 , 0.49869244, 0.60440334, 0.55698363, 0.04851123],\n",
       "       [0.52681828, 0.45741899, 0.5595657 , 0.49171604, 0.13622589],\n",
       "       [0.41557606, 0.36304719, 0.51653765, 0.46902299, 0.0377363 ],\n",
       "       [0.40935422, 0.32723138, 0.43098422, 0.35887137, 0.28442927],\n",
       "       [0.36708861, 0.40511654, 0.48517141, 0.50266091, 0.25732358],\n",
       "       [0.46953443, 0.42455941, 0.55916357, 0.5102922 , 0.11679253],\n",
       "       [0.44507616, 0.46026151, 0.57786267, 0.58178532, 0.17985473],\n",
       "       [0.54355289, 0.61284821, 0.65004524, 0.7035847 , 0.25321083],\n",
       "       [0.66305514, 0.63638431, 0.75691163, 0.70860528, 0.16475059],\n",
       "       [0.67871701, 0.62683343, 0.76374786, 0.68992871, 0.14175766],\n",
       "       [0.6480369 , 0.61569073, 0.74223384, 0.72125715, 0.1150849 ],\n",
       "       [0.67099335, 0.60704946, 0.72011662, 0.70569334, 0.18415989],\n",
       "       [0.67464064, 0.65059693, 0.7957173 , 0.72095592, 0.12309394],\n",
       "       [0.67034971, 0.60420694, 0.73218056, 0.6881213 , 0.1863245 ],\n",
       "       [0.65672602, 0.59363275, 0.73841359, 0.7027814 , 0.17004185],\n",
       "       [0.64932418, 0.63081296, 0.74655675, 0.66362085, 0.07982587],\n",
       "       [0.66852607, 0.60159181, 0.74545089, 0.69223818, 0.26037808],\n",
       "       [0.67217335, 0.76031836, 0.76606012, 0.83572648, 0.33099235],\n",
       "       [0.83361939, 0.81750995, 0.90761033, 0.88151421, 0.21323777],\n",
       "       [0.91214332, 0.9297328 , 0.9803961 , 1.        , 0.21816826],\n",
       "       [1.        , 0.95508812, 1.        , 0.96465509, 0.57398143],\n",
       "       [0.96674533, 1.        , 0.93394993, 0.87589115, 0.57203329],\n",
       "       [0.75166273, 0.70312678, 0.72645019, 0.66512702, 0.639569  ],\n",
       "       [0.56071658, 0.53723707, 0.63315573, 0.60959936, 0.37837318]])"
      ]
     },
     "execution_count": 41,
     "metadata": {},
     "output_type": "execute_result"
    }
   ],
   "source": [
    "inputs = scaler.fit_transform(test)\n",
    "inputs"
   ]
  },
  {
   "cell_type": "markdown",
   "id": "6780099c-5207-4214-afe1-b6c70b2c5ad4",
   "metadata": {},
   "source": [
    "The code normalizes the `test` dataset using Min-Max scaling, transforming its values to a range between 0 and 1 for consistency with the training data."
   ]
  },
  {
   "cell_type": "code",
   "execution_count": 42,
   "id": "51787156-70a3-41aa-b92c-1d187697ec2c",
   "metadata": {},
   "outputs": [],
   "source": [
    "X_test = []\n",
    "y_test = []"
   ]
  },
  {
   "cell_type": "code",
   "execution_count": 43,
   "id": "1756dcf7-9e29-4858-bb4e-186283c1ca14",
   "metadata": {},
   "outputs": [],
   "source": [
    "for i in range(time_stemp,inputs.shape[0]):\n",
    "    X_test.append(inputs[i-time_stemp:i])\n",
    "    y_test.append(inputs[i,0])"
   ]
  },
  {
   "cell_type": "code",
   "execution_count": 44,
   "id": "420e8425-cd9e-419e-b4a2-1a9ecb1f74ca",
   "metadata": {},
   "outputs": [
    {
     "data": {
      "text/plain": [
       "((73, 5, 5), (73,))"
      ]
     },
     "execution_count": 44,
     "metadata": {},
     "output_type": "execute_result"
    }
   ],
   "source": [
    "X_test, y_test = np.array(X_test), np.array(y_test)\n",
    "X_test.shape,y_test.shape\n"
   ]
  },
  {
   "cell_type": "code",
   "execution_count": 45,
   "id": "0dead731-9c3c-4e8b-890e-a492523ceb09",
   "metadata": {},
   "outputs": [
    {
     "data": {
      "text/plain": [
       "array([0.37770865, 0.46406351, 0.57552027, 0.62980047, 0.54076378,\n",
       "       0.64696417, 0.7733319 , 0.6624115 , 0.60512766, 0.6839734 ,\n",
       "       0.54580562, 0.41085604, 0.36054495, 0.24308088, 0.06511478,\n",
       "       0.32085389, 0.41632697, 0.37921047, 0.49967818, 0.12819138,\n",
       "       0.1181077 , 0.025531  , 0.11381678, 0.23954087, 0.28727741,\n",
       "       0.19330616, 0.30079382, 0.24822999, 0.21100622, 0.16530787,\n",
       "       0.28899378, 0.2733319 , 0.13784596, 0.        , 0.14074233,\n",
       "       0.21604806, 0.17603519, 0.29918472, 0.37985411, 0.43391976,\n",
       "       0.52896374, 0.56650933, 0.56586569, 0.59869127, 0.48948723,\n",
       "       0.55964385, 0.54977473, 0.51244368, 0.49678181, 0.4944218 ,\n",
       "       0.52681828, 0.41557606, 0.40935422, 0.36708861, 0.46953443,\n",
       "       0.44507616, 0.54355289, 0.66305514, 0.67871701, 0.6480369 ,\n",
       "       0.67099335, 0.67464064, 0.67034971, 0.65672602, 0.64932418,\n",
       "       0.66852607, 0.67217335, 0.83361939, 0.91214332, 1.        ,\n",
       "       0.96674533, 0.75166273, 0.56071658])"
      ]
     },
     "execution_count": 45,
     "metadata": {},
     "output_type": "execute_result"
    }
   ],
   "source": [
    "y_test"
   ]
  },
  {
   "cell_type": "code",
   "execution_count": 46,
   "id": "ccd47627-9b15-441c-aa31-56cc9616af05",
   "metadata": {},
   "outputs": [
    {
     "name": "stdout",
     "output_type": "stream",
     "text": [
      "\u001b[1m3/3\u001b[0m \u001b[32m━━━━━━━━━━━━━━━━━━━━\u001b[0m\u001b[37m\u001b[0m \u001b[1m4s\u001b[0m 808ms/step\n"
     ]
    },
    {
     "data": {
      "text/plain": [
       "array([[0.45181784],\n",
       "       [0.43140915],\n",
       "       [0.44007567],\n",
       "       [0.4834664 ],\n",
       "       [0.5399146 ],\n",
       "       [0.58787674],\n",
       "       [0.63337064],\n",
       "       [0.66355085],\n",
       "       [0.6709926 ],\n",
       "       [0.66050565],\n",
       "       [0.6652115 ],\n",
       "       [0.64229167],\n",
       "       [0.6014519 ],\n",
       "       [0.5472349 ],\n",
       "       [0.48526728],\n",
       "       [0.38841182],\n",
       "       [0.32542363],\n",
       "       [0.3173028 ],\n",
       "       [0.35235438],\n",
       "       [0.40861887],\n",
       "       [0.43787062],\n",
       "       [0.3498866 ],\n",
       "       [0.24200544],\n",
       "       [0.15779284],\n",
       "       [0.11186686],\n",
       "       [0.12413006],\n",
       "       [0.23559374],\n",
       "       [0.2681126 ],\n",
       "       [0.29702547],\n",
       "       [0.28267002],\n",
       "       [0.2802006 ],\n",
       "       [0.28634152],\n",
       "       [0.2704125 ],\n",
       "       [0.26337552],\n",
       "       [0.23820537],\n",
       "       [0.19475636],\n",
       "       [0.15146571],\n",
       "       [0.13993937],\n",
       "       [0.20020449],\n",
       "       [0.2733445 ],\n",
       "       [0.35046074],\n",
       "       [0.4480297 ],\n",
       "       [0.5330028 ],\n",
       "       [0.5815647 ],\n",
       "       [0.6002902 ],\n",
       "       [0.5979685 ],\n",
       "       [0.5860075 ],\n",
       "       [0.5821807 ],\n",
       "       [0.56927043],\n",
       "       [0.5481285 ],\n",
       "       [0.54244936],\n",
       "       [0.53277725],\n",
       "       [0.5134817 ],\n",
       "       [0.48822954],\n",
       "       [0.46345717],\n",
       "       [0.45327723],\n",
       "       [0.46458188],\n",
       "       [0.5051994 ],\n",
       "       [0.5583117 ],\n",
       "       [0.60705614],\n",
       "       [0.65082395],\n",
       "       [0.68080103],\n",
       "       [0.69410086],\n",
       "       [0.6927409 ],\n",
       "       [0.6879556 ],\n",
       "       [0.6826309 ],\n",
       "       [0.68525505],\n",
       "       [0.69333565],\n",
       "       [0.72319245],\n",
       "       [0.7691632 ],\n",
       "       [0.81931996],\n",
       "       [0.86358595],\n",
       "       [0.8508562 ]], dtype=float32)"
      ]
     },
     "execution_count": 46,
     "metadata": {},
     "output_type": "execute_result"
    }
   ],
   "source": [
    "y_pred = model.predict(X_test)\n",
    "y_pred"
   ]
  },
  {
   "cell_type": "code",
   "execution_count": 47,
   "id": "10c33411-71f9-4a90-b589-6f8c41c10356",
   "metadata": {},
   "outputs": [
    {
     "data": {
      "text/plain": [
       "array([0.37770865, 0.46406351, 0.57552027, 0.62980047, 0.54076378,\n",
       "       0.64696417, 0.7733319 , 0.6624115 , 0.60512766, 0.6839734 ,\n",
       "       0.54580562, 0.41085604, 0.36054495, 0.24308088, 0.06511478,\n",
       "       0.32085389, 0.41632697, 0.37921047, 0.49967818, 0.12819138,\n",
       "       0.1181077 , 0.025531  , 0.11381678, 0.23954087, 0.28727741,\n",
       "       0.19330616, 0.30079382, 0.24822999, 0.21100622, 0.16530787,\n",
       "       0.28899378, 0.2733319 , 0.13784596, 0.        , 0.14074233,\n",
       "       0.21604806, 0.17603519, 0.29918472, 0.37985411, 0.43391976,\n",
       "       0.52896374, 0.56650933, 0.56586569, 0.59869127, 0.48948723,\n",
       "       0.55964385, 0.54977473, 0.51244368, 0.49678181, 0.4944218 ,\n",
       "       0.52681828, 0.41557606, 0.40935422, 0.36708861, 0.46953443,\n",
       "       0.44507616, 0.54355289, 0.66305514, 0.67871701, 0.6480369 ,\n",
       "       0.67099335, 0.67464064, 0.67034971, 0.65672602, 0.64932418,\n",
       "       0.66852607, 0.67217335, 0.83361939, 0.91214332, 1.        ,\n",
       "       0.96674533, 0.75166273, 0.56071658])"
      ]
     },
     "execution_count": 47,
     "metadata": {},
     "output_type": "execute_result"
    }
   ],
   "source": [
    "y_test"
   ]
  },
  {
   "cell_type": "code",
   "execution_count": 48,
   "id": "bcf1f74e-e7b8-419b-bc22-ea5b0da5e819",
   "metadata": {},
   "outputs": [
    {
     "data": {
      "image/png": "[encoded data removed]",
      "text/plain": [
       "<Figure size 640x480 with 1 Axes>"
      ]
     },
     "metadata": {},
     "output_type": "display_data"
    }
   ],
   "source": [
    "# Visualize the results\n",
    "plt.plot(y_test, color='red', label='Real Stock Price')  # Plot actual 'Open' prices in red\n",
    "plt.plot(y_pred, color='blue', label='Predicted Stock Price')  # Plot predicted 'Open' prices in blue\n",
    "plt.title('Stock Price Prediction')  # Title of the plot\n",
    "plt.xlabel('Time')  # X-axis label\n",
    "plt.ylabel('Stock Price')  # Y-axis label\n",
    "plt.legend()  # Display legend to differentiate actual vs. predicted prices\n",
    "plt.show()"
   ]
  },
  {
   "cell_type": "code",
   "execution_count": 49,
   "id": "35cb8bc5-3519-46b7-af7f-febd53b91ce1",
   "metadata": {},
   "outputs": [
    {
     "data": {
      "text/plain": [
       "0.5982709566369395"
      ]
     },
     "execution_count": 49,
     "metadata": {},
     "output_type": "execute_result"
    }
   ],
   "source": [
    "from sklearn.metrics import r2_score\n",
    "r2_score(y_test, y_pred)"
   ]
  },
  {
   "cell_type": "markdown",
   "id": "8679f63d-0c02-488f-8512-31249d9c7017",
   "metadata": {},
   "source": [
    "**NOTE** : The r2 score value is **0.63**\n",
    "\n",
    "The R-squared score of 0.63 indicates that 63% of the variance in the dependent variable is explained by the independent variable(s) in the model. This suggests a moderate level of explanatory power, but there's still a considerable amount of variance not captured by the model."
   ]
  },
  {
   "cell_type": "code",
   "execution_count": null,
   "id": "7366e946-0394-410c-b2e2-1bb45c23bc41",
   "metadata": {},
   "outputs": [],
   "source": []
  },
  {
   "cell_type": "code",
   "execution_count": null,
   "id": "f2d026a9-2ea3-4556-a66f-e7950976b0ab",
   "metadata": {},
   "outputs": [],
   "source": []
  },
  {
   "cell_type": "code",
   "execution_count": null,
   "id": "149ced4b-33cb-4148-97cd-77b5db90ad30",
   "metadata": {},
   "outputs": [],
   "source": []
  }
 ],
 "metadata": {
  "kernelspec": {
   "display_name": "Python 3 (ipykernel)",
   "language": "python",
   "name": "python3"
  },
  "language_info": {
   "codemirror_mode": {
    "name": "ipython",
    "version": 3
   },
   "file_extension": ".py",
   "mimetype": "text/x-python",
   "name": "python",
   "nbconvert_exporter": "python",
   "pygments_lexer": "ipython3",
   "version": "3.12.4"
  }
 },
 "nbformat": 4,
 "nbformat_minor": 5
}
